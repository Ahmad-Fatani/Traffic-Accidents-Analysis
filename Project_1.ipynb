{
 "cells": [
  {
   "cell_type": "markdown",
   "metadata": {},
   "source": [
    "# Driving Licenses, Traffic Accidents and Casualties Analysis"
   ]
  },
  {
   "cell_type": "markdown",
   "metadata": {},
   "source": [
    "## Problem Statment\n"
   ]
  },
  {
   "cell_type": "markdown",
   "metadata": {},
   "source": [
    "As an analyst team in the General Department of Traffic under the Ministry of Interior, we used datasets for traffic accidents in 2016 - 2017 and driving licenses issued from 1993 - 2017 to give recommendations that are best to help reduce traffic accidents and road injured in Saudi Arabia. We do this because of new traffic rules and fines were [implemented in October 2016.](http://live.saudigazette.com.sa/article/164574/New-traffic-laws-in-15-days)"
   ]
  },
  {
   "cell_type": "markdown",
   "metadata": {},
   "source": [
    "## Executive Summary\n"
   ]
  },
  {
   "cell_type": "markdown",
   "metadata": {},
   "source": [
    "We found one issue that the General Department of Traffic should focus on:\n",
    "  - Number of accidents and road injured in Makkah, Riyadh and Eastern region have the higher level than other. This is due to the population density of these regions. Re-investigate the traffic laws of these regions, in addition to providing public transportation."
   ]
  },
  {
   "cell_type": "markdown",
   "metadata": {},
   "source": [
    "### Contents:\n",
    "- [Datasets Description](#Datasets-Description)\n",
    "- [Data Import](#Data-Import)\n",
    "- [Data Visualization](#Visualize-the-data)\n",
    "- [Descriptive and Inferential Statistics](#Descriptive-and-Inferential-Statistics)\n",
    "- [Conclusions and Recommendations](#Conclusions-and-Recommendations)"
   ]
  },
  {
   "cell_type": "code",
   "execution_count": 1,
   "metadata": {},
   "outputs": [],
   "source": [
    "#Imports\n",
    "import numpy as np\n",
    "import pandas as pd\n",
    "\n",
    "import matplotlib.pyplot as plt\n",
    "import seaborn as sns\n",
    "plt.style.use('fivethirtyeight')\n",
    "sns.set(font_scale=1.5)\n",
    "\n",
    "import plotly.express as px\n",
    "import plotly.graph_objects as go\n",
    "import plotly.figure_factory as ff\n",
    "from plotly.subplots import make_subplots\n",
    "\n",
    "import plotly\n",
    "plotly.io.orca.config.save()\n",
    "\n",
    "#!pip install cufflinks\n",
    "import cufflinks as cf\n",
    "\n",
    "%matplotlib inline\n",
    "%config InlineBackend.figure_format = 'retina'"
   ]
  },
  {
   "cell_type": "markdown",
   "metadata": {},
   "source": [
    "## Datasets Description\n",
    "\n",
    "[Driving Licenses](https://datasource.kapsarc.org/explore/dataset/saudi-arabia-driving-licenses-issued-in-the-kingdom-2004-2008/information/?disjunctive.administritive_area&sort=time_period&location=5,24.37495,45.08024&basemap=jawg.streets)\n",
    "This dataset contains Saudi Arabia Driving Licenses Issued By Administrative Area for 1993 - 2016. Data from General Authority for Statistics . Follow datasource.kapsarc.org for timely data to advance energy economics research.\n",
    "\n",
    "[Traffic Accidents and Casualties](https://datasource.kapsarc.org/explore/dataset/saudi-arabia-traffic-accidents-and-casualties-injured-dead-2008/export/?disjunctive.region&disjunctive.indicator&sort=time_period)\n",
    "This dataset contains Saudi Arabia Traffic Accidents and Casualties by Region for 2016. Data from General Authority for Statistics. Follow datasource.kapsarc.org for timely data to advance energy economics research.\n"
   ]
  },
  {
   "cell_type": "markdown",
   "metadata": {},
   "source": [
    "## Data Import"
   ]
  },
  {
   "cell_type": "code",
   "execution_count": 2,
   "metadata": {},
   "outputs": [],
   "source": [
    "accidents = pd.read_csv('../data/saudi-arabia-traffic-accidents-2008.csv' , sep = ';')\n",
    "licenses = pd.read_csv('../data/saudi-arabia-driving-licenses-2004-2008.csv', sep = ';')"
   ]
  },
  {
   "cell_type": "markdown",
   "metadata": {},
   "source": [
    "## EDA"
   ]
  },
  {
   "cell_type": "code",
   "execution_count": 3,
   "metadata": {},
   "outputs": [
    {
     "data": {
      "text/html": [
       "<div>\n",
       "<style scoped>\n",
       "    .dataframe tbody tr th:only-of-type {\n",
       "        vertical-align: middle;\n",
       "    }\n",
       "\n",
       "    .dataframe tbody tr th {\n",
       "        vertical-align: top;\n",
       "    }\n",
       "\n",
       "    .dataframe thead th {\n",
       "        text-align: right;\n",
       "    }\n",
       "</style>\n",
       "<table border=\"1\" class=\"dataframe\">\n",
       "  <thead>\n",
       "    <tr style=\"text-align: right;\">\n",
       "      <th></th>\n",
       "      <th>Unnamed: 0</th>\n",
       "      <th>Year</th>\n",
       "      <th>Administritive Area</th>\n",
       "      <th>Driving Liceses</th>\n",
       "      <th>geo_point_2d</th>\n",
       "    </tr>\n",
       "  </thead>\n",
       "  <tbody>\n",
       "    <tr>\n",
       "      <td>0</td>\n",
       "      <td>0</td>\n",
       "      <td>(2012)</td>\n",
       "      <td>Makkah</td>\n",
       "      <td>143954n</td>\n",
       "      <td>21.628962766, 41.2636898334</td>\n",
       "    </tr>\n",
       "    <tr>\n",
       "      <td>1</td>\n",
       "      <td>1</td>\n",
       "      <td>(1994)</td>\n",
       "      <td>Makkah</td>\n",
       "      <td>75349n</td>\n",
       "      <td>21.628962766, 41.2636898334</td>\n",
       "    </tr>\n",
       "    <tr>\n",
       "      <td>2</td>\n",
       "      <td>2</td>\n",
       "      <td>(1998)</td>\n",
       "      <td>Makkah</td>\n",
       "      <td>86082n</td>\n",
       "      <td>21.628962766, 41.2636898334</td>\n",
       "    </tr>\n",
       "    <tr>\n",
       "      <td>3</td>\n",
       "      <td>3</td>\n",
       "      <td>(2004)</td>\n",
       "      <td>Makkah</td>\n",
       "      <td>86636n</td>\n",
       "      <td>21.628962766, 41.2636898334</td>\n",
       "    </tr>\n",
       "    <tr>\n",
       "      <td>4</td>\n",
       "      <td>4</td>\n",
       "      <td>(2005)</td>\n",
       "      <td>Makkah</td>\n",
       "      <td>65099n</td>\n",
       "      <td>21.628962766, 41.2636898334</td>\n",
       "    </tr>\n",
       "    <tr>\n",
       "      <td>5</td>\n",
       "      <td>5</td>\n",
       "      <td>(2008)</td>\n",
       "      <td>Makkah</td>\n",
       "      <td>77013n</td>\n",
       "      <td>21.628962766, 41.2636898334</td>\n",
       "    </tr>\n",
       "    <tr>\n",
       "      <td>6</td>\n",
       "      <td>6</td>\n",
       "      <td>(2014)</td>\n",
       "      <td>Madinah</td>\n",
       "      <td>31447n</td>\n",
       "      <td>24.927534539, 39.4918237173</td>\n",
       "    </tr>\n",
       "    <tr>\n",
       "      <td>7</td>\n",
       "      <td>7</td>\n",
       "      <td>(2013)</td>\n",
       "      <td>Madinah</td>\n",
       "      <td>28513n</td>\n",
       "      <td>24.927534539, 39.4918237173</td>\n",
       "    </tr>\n",
       "    <tr>\n",
       "      <td>8</td>\n",
       "      <td>8</td>\n",
       "      <td>(2012)</td>\n",
       "      <td>Madinah</td>\n",
       "      <td>14459n</td>\n",
       "      <td>24.927534539, 39.4918237173</td>\n",
       "    </tr>\n",
       "    <tr>\n",
       "      <td>9</td>\n",
       "      <td>9</td>\n",
       "      <td>(1994)</td>\n",
       "      <td>Madinah</td>\n",
       "      <td>3767n</td>\n",
       "      <td>24.927534539, 39.4918237173</td>\n",
       "    </tr>\n",
       "  </tbody>\n",
       "</table>\n",
       "</div>"
      ],
      "text/plain": [
       "   Unnamed: 0    Year Administritive Area Driving Liceses  \\\n",
       "0           0  (2012)              Makkah         143954n   \n",
       "1           1  (1994)              Makkah          75349n   \n",
       "2           2  (1998)              Makkah          86082n   \n",
       "3           3  (2004)              Makkah          86636n   \n",
       "4           4  (2005)              Makkah          65099n   \n",
       "5           5  (2008)              Makkah          77013n   \n",
       "6           6  (2014)             Madinah          31447n   \n",
       "7           7  (2013)             Madinah          28513n   \n",
       "8           8  (2012)             Madinah          14459n   \n",
       "9           9  (1994)             Madinah           3767n   \n",
       "\n",
       "                  geo_point_2d  \n",
       "0  21.628962766, 41.2636898334  \n",
       "1  21.628962766, 41.2636898334  \n",
       "2  21.628962766, 41.2636898334  \n",
       "3  21.628962766, 41.2636898334  \n",
       "4  21.628962766, 41.2636898334  \n",
       "5  21.628962766, 41.2636898334  \n",
       "6  24.927534539, 39.4918237173  \n",
       "7  24.927534539, 39.4918237173  \n",
       "8  24.927534539, 39.4918237173  \n",
       "9  24.927534539, 39.4918237173  "
      ]
     },
     "execution_count": 3,
     "metadata": {},
     "output_type": "execute_result"
    }
   ],
   "source": [
    "licenses.head(10)"
   ]
  },
  {
   "cell_type": "code",
   "execution_count": 4,
   "metadata": {},
   "outputs": [
    {
     "data": {
      "text/html": [
       "<div>\n",
       "<style scoped>\n",
       "    .dataframe tbody tr th:only-of-type {\n",
       "        vertical-align: middle;\n",
       "    }\n",
       "\n",
       "    .dataframe tbody tr th {\n",
       "        vertical-align: top;\n",
       "    }\n",
       "\n",
       "    .dataframe thead th {\n",
       "        text-align: right;\n",
       "    }\n",
       "</style>\n",
       "<table border=\"1\" class=\"dataframe\">\n",
       "  <thead>\n",
       "    <tr style=\"text-align: right;\">\n",
       "      <th></th>\n",
       "      <th>Unnamed: 0</th>\n",
       "      <th>Unnamed: 0.1</th>\n",
       "      <th>Year</th>\n",
       "      <th>Region</th>\n",
       "      <th>Indicator</th>\n",
       "      <th>Value</th>\n",
       "      <th>geo_point_2d</th>\n",
       "    </tr>\n",
       "  </thead>\n",
       "  <tbody>\n",
       "    <tr>\n",
       "      <td>0</td>\n",
       "      <td>0</td>\n",
       "      <td>0</td>\n",
       "      <td>(2016)</td>\n",
       "      <td>Makkah</td>\n",
       "      <td>No. of Casualties - Injured</td>\n",
       "      <td>12383n</td>\n",
       "      <td>21.628962766, 41.2636898334</td>\n",
       "    </tr>\n",
       "    <tr>\n",
       "      <td>1</td>\n",
       "      <td>1</td>\n",
       "      <td>1</td>\n",
       "      <td>(2016)</td>\n",
       "      <td>Eastern Region</td>\n",
       "      <td>No. of Casualties - Dead</td>\n",
       "      <td>1113n</td>\n",
       "      <td>23.2883307307, 50.1478302439</td>\n",
       "    </tr>\n",
       "    <tr>\n",
       "      <td>2</td>\n",
       "      <td>2</td>\n",
       "      <td>2</td>\n",
       "      <td>(2016)</td>\n",
       "      <td>Tabouk</td>\n",
       "      <td>No. of Casualties - Dead</td>\n",
       "      <td>434n</td>\n",
       "      <td>27.90165499, 37.2598581394</td>\n",
       "    </tr>\n",
       "    <tr>\n",
       "      <td>3</td>\n",
       "      <td>3</td>\n",
       "      <td>3</td>\n",
       "      <td>(2016)</td>\n",
       "      <td>Hail</td>\n",
       "      <td>No. of Casualties - Dead</td>\n",
       "      <td>299n</td>\n",
       "      <td>27.400845724, 41.4406960508</td>\n",
       "    </tr>\n",
       "    <tr>\n",
       "      <td>4</td>\n",
       "      <td>4</td>\n",
       "      <td>4</td>\n",
       "      <td>(2016)</td>\n",
       "      <td>Hail</td>\n",
       "      <td>No. of Accidents</td>\n",
       "      <td>10199n</td>\n",
       "      <td>27.400845724, 41.4406960508</td>\n",
       "    </tr>\n",
       "    <tr>\n",
       "      <td>5</td>\n",
       "      <td>5</td>\n",
       "      <td>5</td>\n",
       "      <td>(2016)</td>\n",
       "      <td>Northern Boarder</td>\n",
       "      <td>No. of Casualties - Dead</td>\n",
       "      <td>193n</td>\n",
       "      <td>30.197074783, 41.8171186952</td>\n",
       "    </tr>\n",
       "    <tr>\n",
       "      <td>6</td>\n",
       "      <td>6</td>\n",
       "      <td>6</td>\n",
       "      <td>(2017)</td>\n",
       "      <td>Jazan</td>\n",
       "      <td>No. of Accidents</td>\n",
       "      <td>22161n</td>\n",
       "      <td>17.2072313962, 42.6525807422</td>\n",
       "    </tr>\n",
       "    <tr>\n",
       "      <td>7</td>\n",
       "      <td>7</td>\n",
       "      <td>7</td>\n",
       "      <td>(2017)</td>\n",
       "      <td>Al-Jouf</td>\n",
       "      <td>No. of Accidents</td>\n",
       "      <td>10469n</td>\n",
       "      <td>29.9677445762, 39.5570371172</td>\n",
       "    </tr>\n",
       "    <tr>\n",
       "      <td>8</td>\n",
       "      <td>8</td>\n",
       "      <td>8</td>\n",
       "      <td>(2017)</td>\n",
       "      <td>Total</td>\n",
       "      <td>No. of Casualties - Dead</td>\n",
       "      <td>7489n</td>\n",
       "      <td>NaN</td>\n",
       "    </tr>\n",
       "    <tr>\n",
       "      <td>9</td>\n",
       "      <td>9</td>\n",
       "      <td>9</td>\n",
       "      <td>(2016)</td>\n",
       "      <td>Northern Boarder</td>\n",
       "      <td>No. of Casualties - Injured</td>\n",
       "      <td>631n</td>\n",
       "      <td>30.197074783, 41.8171186952</td>\n",
       "    </tr>\n",
       "  </tbody>\n",
       "</table>\n",
       "</div>"
      ],
      "text/plain": [
       "   Unnamed: 0  Unnamed: 0.1    Year            Region  \\\n",
       "0           0             0  (2016)            Makkah   \n",
       "1           1             1  (2016)    Eastern Region   \n",
       "2           2             2  (2016)            Tabouk   \n",
       "3           3             3  (2016)              Hail   \n",
       "4           4             4  (2016)              Hail   \n",
       "5           5             5  (2016)  Northern Boarder   \n",
       "6           6             6  (2017)             Jazan   \n",
       "7           7             7  (2017)           Al-Jouf   \n",
       "8           8             8  (2017)             Total   \n",
       "9           9             9  (2016)  Northern Boarder   \n",
       "\n",
       "                     Indicator   Value                  geo_point_2d  \n",
       "0  No. of Casualties - Injured  12383n   21.628962766, 41.2636898334  \n",
       "1     No. of Casualties - Dead   1113n  23.2883307307, 50.1478302439  \n",
       "2     No. of Casualties - Dead    434n    27.90165499, 37.2598581394  \n",
       "3     No. of Casualties - Dead    299n   27.400845724, 41.4406960508  \n",
       "4             No. of Accidents  10199n   27.400845724, 41.4406960508  \n",
       "5     No. of Casualties - Dead    193n   30.197074783, 41.8171186952  \n",
       "6             No. of Accidents  22161n  17.2072313962, 42.6525807422  \n",
       "7             No. of Accidents  10469n  29.9677445762, 39.5570371172  \n",
       "8     No. of Casualties - Dead   7489n                           NaN  \n",
       "9  No. of Casualties - Injured    631n   30.197074783, 41.8171186952  "
      ]
     },
     "execution_count": 4,
     "metadata": {},
     "output_type": "execute_result"
    }
   ],
   "source": [
    "accidents.head(10)"
   ]
  },
  {
   "cell_type": "markdown",
   "metadata": {},
   "source": [
    "#### 1. Briefly describe the data\n",
    "\n",
    "Take your time looking through the data and briefly describe the data in the markdown cell below. Note things about what the columns might mean, and the general information that is conveyed in the dataframe."
   ]
  },
  {
   "cell_type": "markdown",
   "metadata": {},
   "source": [
    "Answer:"
   ]
  },
  {
   "cell_type": "markdown",
   "metadata": {},
   "source": [
    "The first dataset has infomation about the date and place of issuance of the licenses. The seconed one, talks about traffic accidents and what are the effects. Both datasets have some issues like repeated and unusful columns.  "
   ]
  },
  {
   "cell_type": "markdown",
   "metadata": {},
   "source": [
    "#### 2a. How complete is the data?\n",
    "\n",
    "Investigate missing values etc."
   ]
  },
  {
   "cell_type": "code",
   "execution_count": 5,
   "metadata": {},
   "outputs": [
    {
     "name": "stdout",
     "output_type": "stream",
     "text": [
      "<class 'pandas.core.frame.DataFrame'>\n",
      "RangeIndex: 350 entries, 0 to 349\n",
      "Data columns (total 5 columns):\n",
      "Unnamed: 0             350 non-null int64\n",
      "Year                   350 non-null object\n",
      "Administritive Area    350 non-null object\n",
      "Driving Liceses        350 non-null object\n",
      "geo_point_2d           325 non-null object\n",
      "dtypes: int64(1), object(4)\n",
      "memory usage: 13.8+ KB\n"
     ]
    },
    {
     "data": {
      "text/plain": [
       "Unnamed: 0              0\n",
       "Year                    0\n",
       "Administritive Area     0\n",
       "Driving Liceses         0\n",
       "geo_point_2d           25\n",
       "dtype: int64"
      ]
     },
     "execution_count": 5,
     "metadata": {},
     "output_type": "execute_result"
    }
   ],
   "source": [
    "licenses.info()\n",
    "licenses.isnull().sum()\n",
    "# There are 25 missing values in the geo column"
   ]
  },
  {
   "cell_type": "code",
   "execution_count": 6,
   "metadata": {},
   "outputs": [
    {
     "name": "stdout",
     "output_type": "stream",
     "text": [
      "<class 'pandas.core.frame.DataFrame'>\n",
      "RangeIndex: 84 entries, 0 to 83\n",
      "Data columns (total 7 columns):\n",
      "Unnamed: 0      84 non-null int64\n",
      "Unnamed: 0.1    84 non-null int64\n",
      "Year            84 non-null object\n",
      "Region          84 non-null object\n",
      "Indicator       84 non-null object\n",
      "Value           84 non-null object\n",
      "geo_point_2d    78 non-null object\n",
      "dtypes: int64(2), object(5)\n",
      "memory usage: 4.7+ KB\n"
     ]
    },
    {
     "data": {
      "text/plain": [
       "Unnamed: 0      0\n",
       "Unnamed: 0.1    0\n",
       "Year            0\n",
       "Region          0\n",
       "Indicator       0\n",
       "Value           0\n",
       "geo_point_2d    6\n",
       "dtype: int64"
      ]
     },
     "execution_count": 6,
     "metadata": {},
     "output_type": "execute_result"
    }
   ],
   "source": [
    "accidents.info()\n",
    "accidents.isnull().sum()\n",
    "# There are 6 missing values in the geo column"
   ]
  },
  {
   "cell_type": "markdown",
   "metadata": {},
   "source": [
    "#### 2b. Are there any obvious issues with the observations?\n",
    "\n",
    "**What is the minimum *possible* value for each dataset? What is the maximum *possible* value?**"
   ]
  },
  {
   "cell_type": "code",
   "execution_count": 7,
   "metadata": {},
   "outputs": [
    {
     "name": "stdout",
     "output_type": "stream",
     "text": [
      "Unnamed: 0                349\n",
      "Year                   (2017)\n",
      "Administritive Area     Total\n",
      "Driving Liceses         9983n\n",
      "dtype: object\n",
      "\n",
      "Unnamed: 0                   0\n",
      "Year                    (1993)\n",
      "Administritive Area    Al-Baha\n",
      "Driving Liceses        100291n\n",
      "dtype: object\n"
     ]
    }
   ],
   "source": [
    "print(licenses.max())\n",
    "print(\"\")\n",
    "print(licenses.min())"
   ]
  },
  {
   "cell_type": "code",
   "execution_count": 8,
   "metadata": {},
   "outputs": [
    {
     "name": "stdout",
     "output_type": "stream",
     "text": [
      "Unnamed: 0                               83\n",
      "Unnamed: 0.1                             83\n",
      "Year                                 (2017)\n",
      "Region                                Total\n",
      "Indicator       No. of Casualties - Injured\n",
      "Value                                99925n\n",
      "dtype: object\n",
      "\n",
      "Unnamed: 0                     0\n",
      "Unnamed: 0.1                   0\n",
      "Year                      (2016)\n",
      "Region                  Al-Baaha\n",
      "Indicator       No. of Accidents\n",
      "Value                      1007n\n",
      "dtype: object\n"
     ]
    }
   ],
   "source": [
    "print(accidents.max())\n",
    "print(\"\")\n",
    "print(accidents.min())"
   ]
  },
  {
   "cell_type": "markdown",
   "metadata": {},
   "source": [
    "#### 3. What are your data types? \n",
    "Display the data types of each feature. "
   ]
  },
  {
   "cell_type": "code",
   "execution_count": 9,
   "metadata": {
    "scrolled": true
   },
   "outputs": [
    {
     "data": {
      "text/plain": [
       "Unnamed: 0              int64\n",
       "Year                   object\n",
       "Administritive Area    object\n",
       "Driving Liceses        object\n",
       "geo_point_2d           object\n",
       "dtype: object"
      ]
     },
     "execution_count": 9,
     "metadata": {},
     "output_type": "execute_result"
    }
   ],
   "source": [
    "licenses.dtypes"
   ]
  },
  {
   "cell_type": "code",
   "execution_count": 10,
   "metadata": {
    "scrolled": true
   },
   "outputs": [
    {
     "data": {
      "text/plain": [
       "Unnamed: 0       int64\n",
       "Unnamed: 0.1     int64\n",
       "Year            object\n",
       "Region          object\n",
       "Indicator       object\n",
       "Value           object\n",
       "geo_point_2d    object\n",
       "dtype: object"
      ]
     },
     "execution_count": 10,
     "metadata": {},
     "output_type": "execute_result"
    }
   ],
   "source": [
    "accidents.dtypes"
   ]
  },
  {
   "cell_type": "markdown",
   "metadata": {},
   "source": [
    "What did you learn?\n",
    "- Do any of them seem odd?  \n",
    "- Which ones are not as they should be?  "
   ]
  },
  {
   "cell_type": "markdown",
   "metadata": {},
   "source": [
    "Answer:"
   ]
  },
  {
   "cell_type": "markdown",
   "metadata": {},
   "source": [
    "For both dataset, there are unuseful columns (Unnamed: 0, Unnamed: 0.1). Also, there are wronge data types such as year and value ( it should be int )."
   ]
  },
  {
   "cell_type": "code",
   "execution_count": 11,
   "metadata": {},
   "outputs": [
    {
     "data": {
      "text/html": [
       "<div>\n",
       "<style scoped>\n",
       "    .dataframe tbody tr th:only-of-type {\n",
       "        vertical-align: middle;\n",
       "    }\n",
       "\n",
       "    .dataframe tbody tr th {\n",
       "        vertical-align: top;\n",
       "    }\n",
       "\n",
       "    .dataframe thead th {\n",
       "        text-align: right;\n",
       "    }\n",
       "</style>\n",
       "<table border=\"1\" class=\"dataframe\">\n",
       "  <thead>\n",
       "    <tr style=\"text-align: right;\">\n",
       "      <th></th>\n",
       "      <th>Unnamed: 0</th>\n",
       "      <th>Unnamed: 0.1</th>\n",
       "      <th>Year</th>\n",
       "      <th>Region</th>\n",
       "      <th>Indicator</th>\n",
       "      <th>Value</th>\n",
       "      <th>geo_point_2d</th>\n",
       "    </tr>\n",
       "  </thead>\n",
       "  <tbody>\n",
       "    <tr>\n",
       "      <td>0</td>\n",
       "      <td>0</td>\n",
       "      <td>0</td>\n",
       "      <td>2016</td>\n",
       "      <td>Makkah</td>\n",
       "      <td>No. of Casualties - Injured</td>\n",
       "      <td>12383</td>\n",
       "      <td>21.628962766, 41.2636898334</td>\n",
       "    </tr>\n",
       "    <tr>\n",
       "      <td>1</td>\n",
       "      <td>1</td>\n",
       "      <td>1</td>\n",
       "      <td>2016</td>\n",
       "      <td>Eastern Region</td>\n",
       "      <td>No. of Casualties - Dead</td>\n",
       "      <td>1113</td>\n",
       "      <td>23.2883307307, 50.1478302439</td>\n",
       "    </tr>\n",
       "    <tr>\n",
       "      <td>2</td>\n",
       "      <td>2</td>\n",
       "      <td>2</td>\n",
       "      <td>2016</td>\n",
       "      <td>Tabouk</td>\n",
       "      <td>No. of Casualties - Dead</td>\n",
       "      <td>434</td>\n",
       "      <td>27.90165499, 37.2598581394</td>\n",
       "    </tr>\n",
       "    <tr>\n",
       "      <td>3</td>\n",
       "      <td>3</td>\n",
       "      <td>3</td>\n",
       "      <td>2016</td>\n",
       "      <td>Hail</td>\n",
       "      <td>No. of Casualties - Dead</td>\n",
       "      <td>299</td>\n",
       "      <td>27.400845724, 41.4406960508</td>\n",
       "    </tr>\n",
       "    <tr>\n",
       "      <td>4</td>\n",
       "      <td>4</td>\n",
       "      <td>4</td>\n",
       "      <td>2016</td>\n",
       "      <td>Hail</td>\n",
       "      <td>No. of Accidents</td>\n",
       "      <td>10199</td>\n",
       "      <td>27.400845724, 41.4406960508</td>\n",
       "    </tr>\n",
       "  </tbody>\n",
       "</table>\n",
       "</div>"
      ],
      "text/plain": [
       "   Unnamed: 0  Unnamed: 0.1  Year          Region  \\\n",
       "0           0             0  2016          Makkah   \n",
       "1           1             1  2016  Eastern Region   \n",
       "2           2             2  2016          Tabouk   \n",
       "3           3             3  2016            Hail   \n",
       "4           4             4  2016            Hail   \n",
       "\n",
       "                     Indicator  Value                  geo_point_2d  \n",
       "0  No. of Casualties - Injured  12383   21.628962766, 41.2636898334  \n",
       "1     No. of Casualties - Dead   1113  23.2883307307, 50.1478302439  \n",
       "2     No. of Casualties - Dead    434    27.90165499, 37.2598581394  \n",
       "3     No. of Casualties - Dead    299   27.400845724, 41.4406960508  \n",
       "4             No. of Accidents  10199   27.400845724, 41.4406960508  "
      ]
     },
     "execution_count": 11,
     "metadata": {},
     "output_type": "execute_result"
    }
   ],
   "source": [
    "# First, remove any bad charactar in the columns that need to convert to numeric type\n",
    "accidents['Year'] = accidents['Year'].apply(lambda x: x.replace('(','').replace(')',''))\n",
    "accidents['Value'] = accidents['Value'].apply(lambda x: x.replace('n',''))\n",
    "accidents.head()"
   ]
  },
  {
   "cell_type": "code",
   "execution_count": 12,
   "metadata": {},
   "outputs": [
    {
     "data": {
      "text/html": [
       "<div>\n",
       "<style scoped>\n",
       "    .dataframe tbody tr th:only-of-type {\n",
       "        vertical-align: middle;\n",
       "    }\n",
       "\n",
       "    .dataframe tbody tr th {\n",
       "        vertical-align: top;\n",
       "    }\n",
       "\n",
       "    .dataframe thead th {\n",
       "        text-align: right;\n",
       "    }\n",
       "</style>\n",
       "<table border=\"1\" class=\"dataframe\">\n",
       "  <thead>\n",
       "    <tr style=\"text-align: right;\">\n",
       "      <th></th>\n",
       "      <th>Unnamed: 0</th>\n",
       "      <th>Year</th>\n",
       "      <th>Administritive Area</th>\n",
       "      <th>Driving Liceses</th>\n",
       "      <th>geo_point_2d</th>\n",
       "    </tr>\n",
       "  </thead>\n",
       "  <tbody>\n",
       "    <tr>\n",
       "      <td>0</td>\n",
       "      <td>0</td>\n",
       "      <td>2012</td>\n",
       "      <td>Makkah</td>\n",
       "      <td>143954</td>\n",
       "      <td>21.628962766, 41.2636898334</td>\n",
       "    </tr>\n",
       "    <tr>\n",
       "      <td>1</td>\n",
       "      <td>1</td>\n",
       "      <td>1994</td>\n",
       "      <td>Makkah</td>\n",
       "      <td>75349</td>\n",
       "      <td>21.628962766, 41.2636898334</td>\n",
       "    </tr>\n",
       "    <tr>\n",
       "      <td>2</td>\n",
       "      <td>2</td>\n",
       "      <td>1998</td>\n",
       "      <td>Makkah</td>\n",
       "      <td>86082</td>\n",
       "      <td>21.628962766, 41.2636898334</td>\n",
       "    </tr>\n",
       "    <tr>\n",
       "      <td>3</td>\n",
       "      <td>3</td>\n",
       "      <td>2004</td>\n",
       "      <td>Makkah</td>\n",
       "      <td>86636</td>\n",
       "      <td>21.628962766, 41.2636898334</td>\n",
       "    </tr>\n",
       "    <tr>\n",
       "      <td>4</td>\n",
       "      <td>4</td>\n",
       "      <td>2005</td>\n",
       "      <td>Makkah</td>\n",
       "      <td>65099</td>\n",
       "      <td>21.628962766, 41.2636898334</td>\n",
       "    </tr>\n",
       "  </tbody>\n",
       "</table>\n",
       "</div>"
      ],
      "text/plain": [
       "   Unnamed: 0  Year Administritive Area Driving Liceses  \\\n",
       "0           0  2012              Makkah          143954   \n",
       "1           1  1994              Makkah           75349   \n",
       "2           2  1998              Makkah           86082   \n",
       "3           3  2004              Makkah           86636   \n",
       "4           4  2005              Makkah           65099   \n",
       "\n",
       "                  geo_point_2d  \n",
       "0  21.628962766, 41.2636898334  \n",
       "1  21.628962766, 41.2636898334  \n",
       "2  21.628962766, 41.2636898334  \n",
       "3  21.628962766, 41.2636898334  \n",
       "4  21.628962766, 41.2636898334  "
      ]
     },
     "execution_count": 12,
     "metadata": {},
     "output_type": "execute_result"
    }
   ],
   "source": [
    "licenses['Year'] = licenses['Year'].apply(lambda x: x.replace('(','').replace(')',''))\n",
    "licenses['Driving Liceses'] = licenses['Driving Liceses'].apply(lambda x: x.replace('n',''))\n",
    "licenses.head()"
   ]
  },
  {
   "cell_type": "markdown",
   "metadata": {},
   "source": [
    "#### 4. Fix incorrect data types"
   ]
  },
  {
   "cell_type": "code",
   "execution_count": 13,
   "metadata": {},
   "outputs": [
    {
     "data": {
      "text/plain": [
       "Unnamed: 0       int64\n",
       "Unnamed: 0.1     int64\n",
       "Year             int64\n",
       "Region          object\n",
       "Indicator       object\n",
       "Value            int64\n",
       "geo_point_2d    object\n",
       "dtype: object"
      ]
     },
     "execution_count": 13,
     "metadata": {},
     "output_type": "execute_result"
    }
   ],
   "source": [
    "# Now convert columns to numeric type\n",
    "accidents[['Year', 'Value']] = accidents[['Year', 'Value']].apply(pd.to_numeric)\n",
    "accidents.dtypes"
   ]
  },
  {
   "cell_type": "code",
   "execution_count": 14,
   "metadata": {},
   "outputs": [
    {
     "data": {
      "text/plain": [
       "Unnamed: 0              int64\n",
       "Year                    int64\n",
       "Administritive Area    object\n",
       "Driving Liceses         int64\n",
       "geo_point_2d           object\n",
       "dtype: object"
      ]
     },
     "execution_count": 14,
     "metadata": {},
     "output_type": "execute_result"
    }
   ],
   "source": [
    "licenses[['Year', 'Driving Liceses']] = licenses[['Year', 'Driving Liceses']].apply(pd.to_numeric)\n",
    "licenses.dtypes"
   ]
  },
  {
   "cell_type": "markdown",
   "metadata": {},
   "source": [
    "- Make new columns `x` and `y` using `geo_point_2d`"
   ]
  },
  {
   "cell_type": "code",
   "execution_count": 15,
   "metadata": {},
   "outputs": [
    {
     "data": {
      "text/html": [
       "<div>\n",
       "<style scoped>\n",
       "    .dataframe tbody tr th:only-of-type {\n",
       "        vertical-align: middle;\n",
       "    }\n",
       "\n",
       "    .dataframe tbody tr th {\n",
       "        vertical-align: top;\n",
       "    }\n",
       "\n",
       "    .dataframe thead th {\n",
       "        text-align: right;\n",
       "    }\n",
       "</style>\n",
       "<table border=\"1\" class=\"dataframe\">\n",
       "  <thead>\n",
       "    <tr style=\"text-align: right;\">\n",
       "      <th></th>\n",
       "      <th>Unnamed: 0</th>\n",
       "      <th>Unnamed: 0.1</th>\n",
       "      <th>Year</th>\n",
       "      <th>Region</th>\n",
       "      <th>Indicator</th>\n",
       "      <th>Value</th>\n",
       "      <th>geo_point_2d</th>\n",
       "      <th>x</th>\n",
       "      <th>y</th>\n",
       "    </tr>\n",
       "  </thead>\n",
       "  <tbody>\n",
       "    <tr>\n",
       "      <td>0</td>\n",
       "      <td>0</td>\n",
       "      <td>0</td>\n",
       "      <td>2016</td>\n",
       "      <td>Makkah</td>\n",
       "      <td>No. of Casualties - Injured</td>\n",
       "      <td>12383</td>\n",
       "      <td>21.628962766, 41.2636898334</td>\n",
       "      <td>21.628962766</td>\n",
       "      <td>41.2636898334</td>\n",
       "    </tr>\n",
       "    <tr>\n",
       "      <td>1</td>\n",
       "      <td>1</td>\n",
       "      <td>1</td>\n",
       "      <td>2016</td>\n",
       "      <td>Eastern Region</td>\n",
       "      <td>No. of Casualties - Dead</td>\n",
       "      <td>1113</td>\n",
       "      <td>23.2883307307, 50.1478302439</td>\n",
       "      <td>23.2883307307</td>\n",
       "      <td>50.1478302439</td>\n",
       "    </tr>\n",
       "    <tr>\n",
       "      <td>2</td>\n",
       "      <td>2</td>\n",
       "      <td>2</td>\n",
       "      <td>2016</td>\n",
       "      <td>Tabouk</td>\n",
       "      <td>No. of Casualties - Dead</td>\n",
       "      <td>434</td>\n",
       "      <td>27.90165499, 37.2598581394</td>\n",
       "      <td>27.90165499</td>\n",
       "      <td>37.2598581394</td>\n",
       "    </tr>\n",
       "    <tr>\n",
       "      <td>3</td>\n",
       "      <td>3</td>\n",
       "      <td>3</td>\n",
       "      <td>2016</td>\n",
       "      <td>Hail</td>\n",
       "      <td>No. of Casualties - Dead</td>\n",
       "      <td>299</td>\n",
       "      <td>27.400845724, 41.4406960508</td>\n",
       "      <td>27.400845724</td>\n",
       "      <td>41.4406960508</td>\n",
       "    </tr>\n",
       "    <tr>\n",
       "      <td>4</td>\n",
       "      <td>4</td>\n",
       "      <td>4</td>\n",
       "      <td>2016</td>\n",
       "      <td>Hail</td>\n",
       "      <td>No. of Accidents</td>\n",
       "      <td>10199</td>\n",
       "      <td>27.400845724, 41.4406960508</td>\n",
       "      <td>27.400845724</td>\n",
       "      <td>41.4406960508</td>\n",
       "    </tr>\n",
       "    <tr>\n",
       "      <td>...</td>\n",
       "      <td>...</td>\n",
       "      <td>...</td>\n",
       "      <td>...</td>\n",
       "      <td>...</td>\n",
       "      <td>...</td>\n",
       "      <td>...</td>\n",
       "      <td>...</td>\n",
       "      <td>...</td>\n",
       "      <td>...</td>\n",
       "    </tr>\n",
       "    <tr>\n",
       "      <td>79</td>\n",
       "      <td>79</td>\n",
       "      <td>79</td>\n",
       "      <td>2017</td>\n",
       "      <td>Asir</td>\n",
       "      <td>No. of Casualties - Injured</td>\n",
       "      <td>2368</td>\n",
       "      <td>19.1387847401, 42.941470036</td>\n",
       "      <td>19.1387847401</td>\n",
       "      <td>42.941470036</td>\n",
       "    </tr>\n",
       "    <tr>\n",
       "      <td>80</td>\n",
       "      <td>80</td>\n",
       "      <td>80</td>\n",
       "      <td>2017</td>\n",
       "      <td>Hail</td>\n",
       "      <td>No. of Casualties - Injured</td>\n",
       "      <td>773</td>\n",
       "      <td>27.400845724, 41.4406960508</td>\n",
       "      <td>27.400845724</td>\n",
       "      <td>41.4406960508</td>\n",
       "    </tr>\n",
       "    <tr>\n",
       "      <td>81</td>\n",
       "      <td>81</td>\n",
       "      <td>81</td>\n",
       "      <td>2017</td>\n",
       "      <td>Al-Baaha</td>\n",
       "      <td>No. of Casualties - Dead</td>\n",
       "      <td>134</td>\n",
       "      <td>20.1484058503, 41.4665484892</td>\n",
       "      <td>20.1484058503</td>\n",
       "      <td>41.4665484892</td>\n",
       "    </tr>\n",
       "    <tr>\n",
       "      <td>82</td>\n",
       "      <td>82</td>\n",
       "      <td>82</td>\n",
       "      <td>2017</td>\n",
       "      <td>Al-Baaha</td>\n",
       "      <td>No. of Accidents</td>\n",
       "      <td>1414</td>\n",
       "      <td>20.1484058503, 41.4665484892</td>\n",
       "      <td>20.1484058503</td>\n",
       "      <td>41.4665484892</td>\n",
       "    </tr>\n",
       "    <tr>\n",
       "      <td>83</td>\n",
       "      <td>83</td>\n",
       "      <td>83</td>\n",
       "      <td>2017</td>\n",
       "      <td>Al-Baaha</td>\n",
       "      <td>No. of Casualties - Injured</td>\n",
       "      <td>1007</td>\n",
       "      <td>20.1484058503, 41.4665484892</td>\n",
       "      <td>20.1484058503</td>\n",
       "      <td>41.4665484892</td>\n",
       "    </tr>\n",
       "  </tbody>\n",
       "</table>\n",
       "<p>84 rows × 9 columns</p>\n",
       "</div>"
      ],
      "text/plain": [
       "    Unnamed: 0  Unnamed: 0.1  Year          Region  \\\n",
       "0            0             0  2016          Makkah   \n",
       "1            1             1  2016  Eastern Region   \n",
       "2            2             2  2016          Tabouk   \n",
       "3            3             3  2016            Hail   \n",
       "4            4             4  2016            Hail   \n",
       "..         ...           ...   ...             ...   \n",
       "79          79            79  2017            Asir   \n",
       "80          80            80  2017            Hail   \n",
       "81          81            81  2017        Al-Baaha   \n",
       "82          82            82  2017        Al-Baaha   \n",
       "83          83            83  2017        Al-Baaha   \n",
       "\n",
       "                      Indicator  Value                  geo_point_2d  \\\n",
       "0   No. of Casualties - Injured  12383   21.628962766, 41.2636898334   \n",
       "1      No. of Casualties - Dead   1113  23.2883307307, 50.1478302439   \n",
       "2      No. of Casualties - Dead    434    27.90165499, 37.2598581394   \n",
       "3      No. of Casualties - Dead    299   27.400845724, 41.4406960508   \n",
       "4              No. of Accidents  10199   27.400845724, 41.4406960508   \n",
       "..                          ...    ...                           ...   \n",
       "79  No. of Casualties - Injured   2368   19.1387847401, 42.941470036   \n",
       "80  No. of Casualties - Injured    773   27.400845724, 41.4406960508   \n",
       "81     No. of Casualties - Dead    134  20.1484058503, 41.4665484892   \n",
       "82             No. of Accidents   1414  20.1484058503, 41.4665484892   \n",
       "83  No. of Casualties - Injured   1007  20.1484058503, 41.4665484892   \n",
       "\n",
       "                x               y  \n",
       "0    21.628962766   41.2636898334  \n",
       "1   23.2883307307   50.1478302439  \n",
       "2     27.90165499   37.2598581394  \n",
       "3    27.400845724   41.4406960508  \n",
       "4    27.400845724   41.4406960508  \n",
       "..            ...             ...  \n",
       "79  19.1387847401    42.941470036  \n",
       "80   27.400845724   41.4406960508  \n",
       "81  20.1484058503   41.4665484892  \n",
       "82  20.1484058503   41.4665484892  \n",
       "83  20.1484058503   41.4665484892  \n",
       "\n",
       "[84 rows x 9 columns]"
      ]
     },
     "execution_count": 15,
     "metadata": {},
     "output_type": "execute_result"
    }
   ],
   "source": [
    "# making new data frame with split geo_point_2d column\n",
    "tr1 = accidents[\"geo_point_2d\"].str.split(\",\", n = 1, expand = True)\n",
    "# making separate x column from new data frame\n",
    "accidents[\"x\"]= tr1[0]\n",
    "# making separate y column from new data frame\n",
    "accidents[\"y\"]= tr1[1]\n",
    "accidents"
   ]
  },
  {
   "cell_type": "code",
   "execution_count": 16,
   "metadata": {},
   "outputs": [
    {
     "data": {
      "text/html": [
       "<div>\n",
       "<style scoped>\n",
       "    .dataframe tbody tr th:only-of-type {\n",
       "        vertical-align: middle;\n",
       "    }\n",
       "\n",
       "    .dataframe tbody tr th {\n",
       "        vertical-align: top;\n",
       "    }\n",
       "\n",
       "    .dataframe thead th {\n",
       "        text-align: right;\n",
       "    }\n",
       "</style>\n",
       "<table border=\"1\" class=\"dataframe\">\n",
       "  <thead>\n",
       "    <tr style=\"text-align: right;\">\n",
       "      <th></th>\n",
       "      <th>Unnamed: 0</th>\n",
       "      <th>Year</th>\n",
       "      <th>Administritive Area</th>\n",
       "      <th>Driving Liceses</th>\n",
       "      <th>geo_point_2d</th>\n",
       "      <th>x</th>\n",
       "      <th>y</th>\n",
       "    </tr>\n",
       "  </thead>\n",
       "  <tbody>\n",
       "    <tr>\n",
       "      <td>0</td>\n",
       "      <td>0</td>\n",
       "      <td>2012</td>\n",
       "      <td>Makkah</td>\n",
       "      <td>143954</td>\n",
       "      <td>21.628962766, 41.2636898334</td>\n",
       "      <td>21.628962766</td>\n",
       "      <td>41.2636898334</td>\n",
       "    </tr>\n",
       "    <tr>\n",
       "      <td>1</td>\n",
       "      <td>1</td>\n",
       "      <td>1994</td>\n",
       "      <td>Makkah</td>\n",
       "      <td>75349</td>\n",
       "      <td>21.628962766, 41.2636898334</td>\n",
       "      <td>21.628962766</td>\n",
       "      <td>41.2636898334</td>\n",
       "    </tr>\n",
       "    <tr>\n",
       "      <td>2</td>\n",
       "      <td>2</td>\n",
       "      <td>1998</td>\n",
       "      <td>Makkah</td>\n",
       "      <td>86082</td>\n",
       "      <td>21.628962766, 41.2636898334</td>\n",
       "      <td>21.628962766</td>\n",
       "      <td>41.2636898334</td>\n",
       "    </tr>\n",
       "    <tr>\n",
       "      <td>3</td>\n",
       "      <td>3</td>\n",
       "      <td>2004</td>\n",
       "      <td>Makkah</td>\n",
       "      <td>86636</td>\n",
       "      <td>21.628962766, 41.2636898334</td>\n",
       "      <td>21.628962766</td>\n",
       "      <td>41.2636898334</td>\n",
       "    </tr>\n",
       "    <tr>\n",
       "      <td>4</td>\n",
       "      <td>4</td>\n",
       "      <td>2005</td>\n",
       "      <td>Makkah</td>\n",
       "      <td>65099</td>\n",
       "      <td>21.628962766, 41.2636898334</td>\n",
       "      <td>21.628962766</td>\n",
       "      <td>41.2636898334</td>\n",
       "    </tr>\n",
       "    <tr>\n",
       "      <td>...</td>\n",
       "      <td>...</td>\n",
       "      <td>...</td>\n",
       "      <td>...</td>\n",
       "      <td>...</td>\n",
       "      <td>...</td>\n",
       "      <td>...</td>\n",
       "      <td>...</td>\n",
       "    </tr>\n",
       "    <tr>\n",
       "      <td>345</td>\n",
       "      <td>345</td>\n",
       "      <td>2000</td>\n",
       "      <td>Tabouk</td>\n",
       "      <td>8473</td>\n",
       "      <td>27.90165499, 37.2598581394</td>\n",
       "      <td>27.90165499</td>\n",
       "      <td>37.2598581394</td>\n",
       "    </tr>\n",
       "    <tr>\n",
       "      <td>346</td>\n",
       "      <td>346</td>\n",
       "      <td>2006</td>\n",
       "      <td>Tabouk</td>\n",
       "      <td>8259</td>\n",
       "      <td>27.90165499, 37.2598581394</td>\n",
       "      <td>27.90165499</td>\n",
       "      <td>37.2598581394</td>\n",
       "    </tr>\n",
       "    <tr>\n",
       "      <td>347</td>\n",
       "      <td>347</td>\n",
       "      <td>2013</td>\n",
       "      <td>Hail</td>\n",
       "      <td>9731</td>\n",
       "      <td>27.400845724, 41.4406960508</td>\n",
       "      <td>27.400845724</td>\n",
       "      <td>41.4406960508</td>\n",
       "    </tr>\n",
       "    <tr>\n",
       "      <td>348</td>\n",
       "      <td>348</td>\n",
       "      <td>1997</td>\n",
       "      <td>Hail</td>\n",
       "      <td>6606</td>\n",
       "      <td>27.400845724, 41.4406960508</td>\n",
       "      <td>27.400845724</td>\n",
       "      <td>41.4406960508</td>\n",
       "    </tr>\n",
       "    <tr>\n",
       "      <td>349</td>\n",
       "      <td>349</td>\n",
       "      <td>1999</td>\n",
       "      <td>Hail</td>\n",
       "      <td>3139</td>\n",
       "      <td>27.400845724, 41.4406960508</td>\n",
       "      <td>27.400845724</td>\n",
       "      <td>41.4406960508</td>\n",
       "    </tr>\n",
       "  </tbody>\n",
       "</table>\n",
       "<p>350 rows × 7 columns</p>\n",
       "</div>"
      ],
      "text/plain": [
       "     Unnamed: 0  Year Administritive Area  Driving Liceses  \\\n",
       "0             0  2012              Makkah           143954   \n",
       "1             1  1994              Makkah            75349   \n",
       "2             2  1998              Makkah            86082   \n",
       "3             3  2004              Makkah            86636   \n",
       "4             4  2005              Makkah            65099   \n",
       "..          ...   ...                 ...              ...   \n",
       "345         345  2000              Tabouk             8473   \n",
       "346         346  2006              Tabouk             8259   \n",
       "347         347  2013                Hail             9731   \n",
       "348         348  1997                Hail             6606   \n",
       "349         349  1999                Hail             3139   \n",
       "\n",
       "                    geo_point_2d             x               y  \n",
       "0    21.628962766, 41.2636898334  21.628962766   41.2636898334  \n",
       "1    21.628962766, 41.2636898334  21.628962766   41.2636898334  \n",
       "2    21.628962766, 41.2636898334  21.628962766   41.2636898334  \n",
       "3    21.628962766, 41.2636898334  21.628962766   41.2636898334  \n",
       "4    21.628962766, 41.2636898334  21.628962766   41.2636898334  \n",
       "..                           ...           ...             ...  \n",
       "345   27.90165499, 37.2598581394   27.90165499   37.2598581394  \n",
       "346   27.90165499, 37.2598581394   27.90165499   37.2598581394  \n",
       "347  27.400845724, 41.4406960508  27.400845724   41.4406960508  \n",
       "348  27.400845724, 41.4406960508  27.400845724   41.4406960508  \n",
       "349  27.400845724, 41.4406960508  27.400845724   41.4406960508  \n",
       "\n",
       "[350 rows x 7 columns]"
      ]
     },
     "execution_count": 16,
     "metadata": {},
     "output_type": "execute_result"
    }
   ],
   "source": [
    "dl1 = licenses[\"geo_point_2d\"].str.split(\",\", n = 1, expand = True)\n",
    "licenses[\"x\"]= dl1[0]\n",
    "licenses[\"y\"]= dl1[1]\n",
    "licenses"
   ]
  },
  {
   "cell_type": "markdown",
   "metadata": {},
   "source": [
    "- Finish your data modifications by making sure the columns are now typed appropriately."
   ]
  },
  {
   "cell_type": "code",
   "execution_count": 17,
   "metadata": {},
   "outputs": [],
   "source": [
    "# drop unusful column\n",
    "licenses.drop(['Unnamed: 0'], axis=1,inplace=True)"
   ]
  },
  {
   "cell_type": "code",
   "execution_count": 18,
   "metadata": {},
   "outputs": [],
   "source": [
    "accidents.drop(['Unnamed: 0', 'Unnamed: 0.1'], axis=1,inplace=True)"
   ]
  },
  {
   "cell_type": "markdown",
   "metadata": {},
   "source": [
    "- Display the data types again to confirm they are correct."
   ]
  },
  {
   "cell_type": "code",
   "execution_count": 19,
   "metadata": {},
   "outputs": [
    {
     "data": {
      "text/plain": [
       "Year             int64\n",
       "Region          object\n",
       "Indicator       object\n",
       "Value            int64\n",
       "geo_point_2d    object\n",
       "x               object\n",
       "y               object\n",
       "dtype: object"
      ]
     },
     "execution_count": 19,
     "metadata": {},
     "output_type": "execute_result"
    }
   ],
   "source": [
    "accidents.dtypes"
   ]
  },
  {
   "cell_type": "code",
   "execution_count": 20,
   "metadata": {},
   "outputs": [
    {
     "data": {
      "text/plain": [
       "Year                    int64\n",
       "Administritive Area    object\n",
       "Driving Liceses         int64\n",
       "geo_point_2d           object\n",
       "x                      object\n",
       "y                      object\n",
       "dtype: object"
      ]
     },
     "execution_count": 20,
     "metadata": {},
     "output_type": "execute_result"
    }
   ],
   "source": [
    "licenses.dtypes"
   ]
  },
  {
   "cell_type": "markdown",
   "metadata": {},
   "source": [
    "#### 5. Rename columns\n",
    "\n",
    "**Guidelines**:\n",
    "- Column names should be all lowercase (you will thank yourself when you start pushing data to SQL later in the course)\n",
    "- Column names should not contain spaces (underscores will suffice--this allows for using the `df.column_name` method to access columns in addition to `df['column_name']`.\n",
    "- Column names should be unique and informative (the only feature that we actually share between dataframes is the state).\n",
    "- Please also fix any typos you see in the column names."
   ]
  },
  {
   "cell_type": "code",
   "execution_count": 21,
   "metadata": {},
   "outputs": [
    {
     "data": {
      "text/html": [
       "<div>\n",
       "<style scoped>\n",
       "    .dataframe tbody tr th:only-of-type {\n",
       "        vertical-align: middle;\n",
       "    }\n",
       "\n",
       "    .dataframe tbody tr th {\n",
       "        vertical-align: top;\n",
       "    }\n",
       "\n",
       "    .dataframe thead th {\n",
       "        text-align: right;\n",
       "    }\n",
       "</style>\n",
       "<table border=\"1\" class=\"dataframe\">\n",
       "  <thead>\n",
       "    <tr style=\"text-align: right;\">\n",
       "      <th></th>\n",
       "      <th>year</th>\n",
       "      <th>region</th>\n",
       "      <th>driving_licenses</th>\n",
       "      <th>geo_point_2d</th>\n",
       "      <th>x</th>\n",
       "      <th>y</th>\n",
       "    </tr>\n",
       "  </thead>\n",
       "  <tbody>\n",
       "    <tr>\n",
       "      <td>0</td>\n",
       "      <td>2012</td>\n",
       "      <td>Makkah</td>\n",
       "      <td>143954</td>\n",
       "      <td>21.628962766, 41.2636898334</td>\n",
       "      <td>21.628962766</td>\n",
       "      <td>41.2636898334</td>\n",
       "    </tr>\n",
       "    <tr>\n",
       "      <td>1</td>\n",
       "      <td>1994</td>\n",
       "      <td>Makkah</td>\n",
       "      <td>75349</td>\n",
       "      <td>21.628962766, 41.2636898334</td>\n",
       "      <td>21.628962766</td>\n",
       "      <td>41.2636898334</td>\n",
       "    </tr>\n",
       "    <tr>\n",
       "      <td>2</td>\n",
       "      <td>1998</td>\n",
       "      <td>Makkah</td>\n",
       "      <td>86082</td>\n",
       "      <td>21.628962766, 41.2636898334</td>\n",
       "      <td>21.628962766</td>\n",
       "      <td>41.2636898334</td>\n",
       "    </tr>\n",
       "    <tr>\n",
       "      <td>3</td>\n",
       "      <td>2004</td>\n",
       "      <td>Makkah</td>\n",
       "      <td>86636</td>\n",
       "      <td>21.628962766, 41.2636898334</td>\n",
       "      <td>21.628962766</td>\n",
       "      <td>41.2636898334</td>\n",
       "    </tr>\n",
       "    <tr>\n",
       "      <td>4</td>\n",
       "      <td>2005</td>\n",
       "      <td>Makkah</td>\n",
       "      <td>65099</td>\n",
       "      <td>21.628962766, 41.2636898334</td>\n",
       "      <td>21.628962766</td>\n",
       "      <td>41.2636898334</td>\n",
       "    </tr>\n",
       "    <tr>\n",
       "      <td>...</td>\n",
       "      <td>...</td>\n",
       "      <td>...</td>\n",
       "      <td>...</td>\n",
       "      <td>...</td>\n",
       "      <td>...</td>\n",
       "      <td>...</td>\n",
       "    </tr>\n",
       "    <tr>\n",
       "      <td>345</td>\n",
       "      <td>2000</td>\n",
       "      <td>Tabouk</td>\n",
       "      <td>8473</td>\n",
       "      <td>27.90165499, 37.2598581394</td>\n",
       "      <td>27.90165499</td>\n",
       "      <td>37.2598581394</td>\n",
       "    </tr>\n",
       "    <tr>\n",
       "      <td>346</td>\n",
       "      <td>2006</td>\n",
       "      <td>Tabouk</td>\n",
       "      <td>8259</td>\n",
       "      <td>27.90165499, 37.2598581394</td>\n",
       "      <td>27.90165499</td>\n",
       "      <td>37.2598581394</td>\n",
       "    </tr>\n",
       "    <tr>\n",
       "      <td>347</td>\n",
       "      <td>2013</td>\n",
       "      <td>Hail</td>\n",
       "      <td>9731</td>\n",
       "      <td>27.400845724, 41.4406960508</td>\n",
       "      <td>27.400845724</td>\n",
       "      <td>41.4406960508</td>\n",
       "    </tr>\n",
       "    <tr>\n",
       "      <td>348</td>\n",
       "      <td>1997</td>\n",
       "      <td>Hail</td>\n",
       "      <td>6606</td>\n",
       "      <td>27.400845724, 41.4406960508</td>\n",
       "      <td>27.400845724</td>\n",
       "      <td>41.4406960508</td>\n",
       "    </tr>\n",
       "    <tr>\n",
       "      <td>349</td>\n",
       "      <td>1999</td>\n",
       "      <td>Hail</td>\n",
       "      <td>3139</td>\n",
       "      <td>27.400845724, 41.4406960508</td>\n",
       "      <td>27.400845724</td>\n",
       "      <td>41.4406960508</td>\n",
       "    </tr>\n",
       "  </tbody>\n",
       "</table>\n",
       "<p>350 rows × 6 columns</p>\n",
       "</div>"
      ],
      "text/plain": [
       "     year  region  driving_licenses                 geo_point_2d  \\\n",
       "0    2012  Makkah            143954  21.628962766, 41.2636898334   \n",
       "1    1994  Makkah             75349  21.628962766, 41.2636898334   \n",
       "2    1998  Makkah             86082  21.628962766, 41.2636898334   \n",
       "3    2004  Makkah             86636  21.628962766, 41.2636898334   \n",
       "4    2005  Makkah             65099  21.628962766, 41.2636898334   \n",
       "..    ...     ...               ...                          ...   \n",
       "345  2000  Tabouk              8473   27.90165499, 37.2598581394   \n",
       "346  2006  Tabouk              8259   27.90165499, 37.2598581394   \n",
       "347  2013    Hail              9731  27.400845724, 41.4406960508   \n",
       "348  1997    Hail              6606  27.400845724, 41.4406960508   \n",
       "349  1999    Hail              3139  27.400845724, 41.4406960508   \n",
       "\n",
       "                x               y  \n",
       "0    21.628962766   41.2636898334  \n",
       "1    21.628962766   41.2636898334  \n",
       "2    21.628962766   41.2636898334  \n",
       "3    21.628962766   41.2636898334  \n",
       "4    21.628962766   41.2636898334  \n",
       "..            ...             ...  \n",
       "345   27.90165499   37.2598581394  \n",
       "346   27.90165499   37.2598581394  \n",
       "347  27.400845724   41.4406960508  \n",
       "348  27.400845724   41.4406960508  \n",
       "349  27.400845724   41.4406960508  \n",
       "\n",
       "[350 rows x 6 columns]"
      ]
     },
     "execution_count": 21,
     "metadata": {},
     "output_type": "execute_result"
    }
   ],
   "source": [
    "licenses.rename(columns={\n",
    "        'Year':'year',\n",
    "        'Administritive Area':'region',\n",
    "        'Driving Liceses':'driving_licenses',\n",
    "        'geo_point_2d':'geo_point_2d',\n",
    "        'x':'x',\n",
    "        'y':'y',\n",
    "    }, inplace=True)\n",
    "licenses"
   ]
  },
  {
   "cell_type": "code",
   "execution_count": 22,
   "metadata": {},
   "outputs": [
    {
     "data": {
      "text/html": [
       "<div>\n",
       "<style scoped>\n",
       "    .dataframe tbody tr th:only-of-type {\n",
       "        vertical-align: middle;\n",
       "    }\n",
       "\n",
       "    .dataframe tbody tr th {\n",
       "        vertical-align: top;\n",
       "    }\n",
       "\n",
       "    .dataframe thead th {\n",
       "        text-align: right;\n",
       "    }\n",
       "</style>\n",
       "<table border=\"1\" class=\"dataframe\">\n",
       "  <thead>\n",
       "    <tr style=\"text-align: right;\">\n",
       "      <th></th>\n",
       "      <th>year</th>\n",
       "      <th>region</th>\n",
       "      <th>casualties</th>\n",
       "      <th>value</th>\n",
       "      <th>geo_point_2d</th>\n",
       "      <th>x</th>\n",
       "      <th>y</th>\n",
       "    </tr>\n",
       "  </thead>\n",
       "  <tbody>\n",
       "    <tr>\n",
       "      <td>0</td>\n",
       "      <td>2016</td>\n",
       "      <td>Makkah</td>\n",
       "      <td>No. of Casualties - Injured</td>\n",
       "      <td>12383</td>\n",
       "      <td>21.628962766, 41.2636898334</td>\n",
       "      <td>21.628962766</td>\n",
       "      <td>41.2636898334</td>\n",
       "    </tr>\n",
       "    <tr>\n",
       "      <td>1</td>\n",
       "      <td>2016</td>\n",
       "      <td>Eastern Region</td>\n",
       "      <td>No. of Casualties - Dead</td>\n",
       "      <td>1113</td>\n",
       "      <td>23.2883307307, 50.1478302439</td>\n",
       "      <td>23.2883307307</td>\n",
       "      <td>50.1478302439</td>\n",
       "    </tr>\n",
       "    <tr>\n",
       "      <td>2</td>\n",
       "      <td>2016</td>\n",
       "      <td>Tabouk</td>\n",
       "      <td>No. of Casualties - Dead</td>\n",
       "      <td>434</td>\n",
       "      <td>27.90165499, 37.2598581394</td>\n",
       "      <td>27.90165499</td>\n",
       "      <td>37.2598581394</td>\n",
       "    </tr>\n",
       "    <tr>\n",
       "      <td>3</td>\n",
       "      <td>2016</td>\n",
       "      <td>Hail</td>\n",
       "      <td>No. of Casualties - Dead</td>\n",
       "      <td>299</td>\n",
       "      <td>27.400845724, 41.4406960508</td>\n",
       "      <td>27.400845724</td>\n",
       "      <td>41.4406960508</td>\n",
       "    </tr>\n",
       "    <tr>\n",
       "      <td>4</td>\n",
       "      <td>2016</td>\n",
       "      <td>Hail</td>\n",
       "      <td>No. of Accidents</td>\n",
       "      <td>10199</td>\n",
       "      <td>27.400845724, 41.4406960508</td>\n",
       "      <td>27.400845724</td>\n",
       "      <td>41.4406960508</td>\n",
       "    </tr>\n",
       "    <tr>\n",
       "      <td>...</td>\n",
       "      <td>...</td>\n",
       "      <td>...</td>\n",
       "      <td>...</td>\n",
       "      <td>...</td>\n",
       "      <td>...</td>\n",
       "      <td>...</td>\n",
       "      <td>...</td>\n",
       "    </tr>\n",
       "    <tr>\n",
       "      <td>79</td>\n",
       "      <td>2017</td>\n",
       "      <td>Asir</td>\n",
       "      <td>No. of Casualties - Injured</td>\n",
       "      <td>2368</td>\n",
       "      <td>19.1387847401, 42.941470036</td>\n",
       "      <td>19.1387847401</td>\n",
       "      <td>42.941470036</td>\n",
       "    </tr>\n",
       "    <tr>\n",
       "      <td>80</td>\n",
       "      <td>2017</td>\n",
       "      <td>Hail</td>\n",
       "      <td>No. of Casualties - Injured</td>\n",
       "      <td>773</td>\n",
       "      <td>27.400845724, 41.4406960508</td>\n",
       "      <td>27.400845724</td>\n",
       "      <td>41.4406960508</td>\n",
       "    </tr>\n",
       "    <tr>\n",
       "      <td>81</td>\n",
       "      <td>2017</td>\n",
       "      <td>Al-Baaha</td>\n",
       "      <td>No. of Casualties - Dead</td>\n",
       "      <td>134</td>\n",
       "      <td>20.1484058503, 41.4665484892</td>\n",
       "      <td>20.1484058503</td>\n",
       "      <td>41.4665484892</td>\n",
       "    </tr>\n",
       "    <tr>\n",
       "      <td>82</td>\n",
       "      <td>2017</td>\n",
       "      <td>Al-Baaha</td>\n",
       "      <td>No. of Accidents</td>\n",
       "      <td>1414</td>\n",
       "      <td>20.1484058503, 41.4665484892</td>\n",
       "      <td>20.1484058503</td>\n",
       "      <td>41.4665484892</td>\n",
       "    </tr>\n",
       "    <tr>\n",
       "      <td>83</td>\n",
       "      <td>2017</td>\n",
       "      <td>Al-Baaha</td>\n",
       "      <td>No. of Casualties - Injured</td>\n",
       "      <td>1007</td>\n",
       "      <td>20.1484058503, 41.4665484892</td>\n",
       "      <td>20.1484058503</td>\n",
       "      <td>41.4665484892</td>\n",
       "    </tr>\n",
       "  </tbody>\n",
       "</table>\n",
       "<p>84 rows × 7 columns</p>\n",
       "</div>"
      ],
      "text/plain": [
       "    year          region                   casualties  value  \\\n",
       "0   2016          Makkah  No. of Casualties - Injured  12383   \n",
       "1   2016  Eastern Region     No. of Casualties - Dead   1113   \n",
       "2   2016          Tabouk     No. of Casualties - Dead    434   \n",
       "3   2016            Hail     No. of Casualties - Dead    299   \n",
       "4   2016            Hail             No. of Accidents  10199   \n",
       "..   ...             ...                          ...    ...   \n",
       "79  2017            Asir  No. of Casualties - Injured   2368   \n",
       "80  2017            Hail  No. of Casualties - Injured    773   \n",
       "81  2017        Al-Baaha     No. of Casualties - Dead    134   \n",
       "82  2017        Al-Baaha             No. of Accidents   1414   \n",
       "83  2017        Al-Baaha  No. of Casualties - Injured   1007   \n",
       "\n",
       "                    geo_point_2d              x               y  \n",
       "0    21.628962766, 41.2636898334   21.628962766   41.2636898334  \n",
       "1   23.2883307307, 50.1478302439  23.2883307307   50.1478302439  \n",
       "2     27.90165499, 37.2598581394    27.90165499   37.2598581394  \n",
       "3    27.400845724, 41.4406960508   27.400845724   41.4406960508  \n",
       "4    27.400845724, 41.4406960508   27.400845724   41.4406960508  \n",
       "..                           ...            ...             ...  \n",
       "79   19.1387847401, 42.941470036  19.1387847401    42.941470036  \n",
       "80   27.400845724, 41.4406960508   27.400845724   41.4406960508  \n",
       "81  20.1484058503, 41.4665484892  20.1484058503   41.4665484892  \n",
       "82  20.1484058503, 41.4665484892  20.1484058503   41.4665484892  \n",
       "83  20.1484058503, 41.4665484892  20.1484058503   41.4665484892  \n",
       "\n",
       "[84 rows x 7 columns]"
      ]
     },
     "execution_count": 22,
     "metadata": {},
     "output_type": "execute_result"
    }
   ],
   "source": [
    "accidents.rename(columns={\n",
    "        'Year':'year',\n",
    "        'Region':'region',\n",
    "        'Indicator':'casualties',\n",
    "        'Value':'value',\n",
    "        'geo_point_2d':'geo_point_2d',\n",
    "        'x':'x',\n",
    "        'y':'y',\n",
    "    }, inplace=True)\n",
    "accidents"
   ]
  },
  {
   "cell_type": "code",
   "execution_count": 23,
   "metadata": {},
   "outputs": [],
   "source": [
    "# rename the region's names to avoid any errors after merging\n",
    "licenses['region'].replace({ \"Eastern\": \"Eastern Region\", \"Assir\": \"Asir\" }, inplace=True)"
   ]
  },
  {
   "cell_type": "code",
   "execution_count": 24,
   "metadata": {},
   "outputs": [
    {
     "data": {
      "text/plain": [
       "array(['Makkah', 'Madinah', 'Al-Qaseem', 'Eastern Region', 'Asir',\n",
       "       'Tabouk', 'Hail', 'Northern Boarder', 'Jazan', 'Najran', 'Al-Baha',\n",
       "       'Al-Jouf', 'Total', 'Riyadh'], dtype=object)"
      ]
     },
     "execution_count": 24,
     "metadata": {},
     "output_type": "execute_result"
    }
   ],
   "source": [
    "licenses['region'].unique()"
   ]
  },
  {
   "cell_type": "code",
   "execution_count": 25,
   "metadata": {},
   "outputs": [
    {
     "data": {
      "text/plain": [
       "array(['Makkah', 'Eastern Region', 'Tabouk', 'Hail', 'Northern Boarder',\n",
       "       'Jazan', 'Al-Jouf', 'Total', 'Al-Baha', 'Riyadh', 'Madinah',\n",
       "       'Al-Qaseem', 'Najran', 'Asir'], dtype=object)"
      ]
     },
     "execution_count": 25,
     "metadata": {},
     "output_type": "execute_result"
    }
   ],
   "source": [
    "accidents['region'].replace({ \"Qassim\" : \"Al-Qaseem\" , \"Al-Baaha\" : \"Al-Baha\" }, inplace=True)\n",
    "accidents['region'].unique()"
   ]
  },
  {
   "cell_type": "markdown",
   "metadata": {},
   "source": [
    "#### 6. Create a data dictionary\n",
    "\n",
    "Now that we've fixed our data, and given it appropriate names, let's create a [data dictionary](http://library.ucmerced.edu/node/10249). \n",
    "\n",
    "A data dictionary provides a quick overview of features/variables/columns, alongside data types and descriptions. The more descriptive you can be, the more useful this document is.\n",
    "\n",
    "Example of a Fictional Data Dictionary Entry: \n",
    "\n",
    "|Feature|Type|Dataset|Description|\n",
    "|---|---|---|---|\n",
    "|column name|int/float/object|Driving_Licenses/Traffic_Accidents|This is an example| \n",
    "\n",
    "\n",
    "[Here's a quick link to a short guide for formatting markdown in Jupyter notebooks](https://jupyter-notebook.readthedocs.io/en/stable/examples/Notebook/Working%20With%20Markdown%20Cells.html).\n",
    "\n",
    "**This would be a great thing to copy and paste into your custom README for this project.**"
   ]
  },
  {
   "cell_type": "markdown",
   "metadata": {},
   "source": [
    "### Traffic_Accidents"
   ]
  },
  {
   "cell_type": "markdown",
   "metadata": {},
   "source": [
    "|Feature|Type|Dataset|Description|\n",
    "|---|---|---|---|\n",
    "|**year**|int|Traffic_Accidents|In which year the accident happened|\n",
    "|**region**|object|Traffic_Accidents|In which region the accident happened|\n",
    "|**casualties**|object|Traffic_Accidents|Type of casualties ( accident - dead - injured )|\n",
    "|**value**|int|Traffic_Accidents|Value of the casualty|\n",
    "|**geo_point_2d**|object|Traffic_Accidents|Coordinate of the region|\n",
    "|**x**|object|Traffic_Accidents|The latitude coordinate of the associated region|\n",
    "|**y**|object|Traffic_Accidents|The longtitude coordinate of the associated region|"
   ]
  },
  {
   "cell_type": "markdown",
   "metadata": {},
   "source": [
    "### Driving_Licenses"
   ]
  },
  {
   "cell_type": "markdown",
   "metadata": {},
   "source": [
    "|Feature|Type|Dataset|Description|\n",
    "|---|---|---|---|\n",
    "|**year**|int|Driving_Licenses|in what year the driving license was issued|\n",
    "|**region**|object|Driving_Licenses|In which region the driving license was issued|\n",
    "|**driving_licenses**|int|Driving_Licenses|The number of driving licenses issued|\n",
    "|**geo_point_2d**|object|Driving_Licenses|Coordinate of the region|\n",
    "|**x**|object|Driving_Licenses|The latitude coordinate of the associated region|\n",
    "|**y**|object|Driving_Licenses|The longtitude coordinate of the associated region|"
   ]
  },
  {
   "cell_type": "markdown",
   "metadata": {},
   "source": [
    "#### 7. Drop unnecessary rows and columns\n"
   ]
  },
  {
   "cell_type": "code",
   "execution_count": 26,
   "metadata": {
    "scrolled": true
   },
   "outputs": [
    {
     "name": "stdout",
     "output_type": "stream",
     "text": [
      "(25, 6)\n"
     ]
    }
   ],
   "source": [
    "# for driving licenses data frame \n",
    "# check how many (total) in the data frame\n",
    "is_total =  licenses['region']=='Total'\n",
    "region_total = licenses[is_total]\n",
    "print(region_total.shape)"
   ]
  },
  {
   "cell_type": "code",
   "execution_count": 27,
   "metadata": {},
   "outputs": [],
   "source": [
    "# drop rows that have (total) value in region colmun\n",
    "licenses.drop( licenses[ licenses['region'] == \"Total\" ].index , inplace=True)"
   ]
  },
  {
   "cell_type": "code",
   "execution_count": 28,
   "metadata": {},
   "outputs": [
    {
     "data": {
      "text/html": [
       "<div>\n",
       "<style scoped>\n",
       "    .dataframe tbody tr th:only-of-type {\n",
       "        vertical-align: middle;\n",
       "    }\n",
       "\n",
       "    .dataframe tbody tr th {\n",
       "        vertical-align: top;\n",
       "    }\n",
       "\n",
       "    .dataframe thead th {\n",
       "        text-align: right;\n",
       "    }\n",
       "</style>\n",
       "<table border=\"1\" class=\"dataframe\">\n",
       "  <thead>\n",
       "    <tr style=\"text-align: right;\">\n",
       "      <th></th>\n",
       "      <th>year</th>\n",
       "      <th>region</th>\n",
       "      <th>driving_licenses</th>\n",
       "    </tr>\n",
       "  </thead>\n",
       "  <tbody>\n",
       "    <tr>\n",
       "      <td>0</td>\n",
       "      <td>2012</td>\n",
       "      <td>Makkah</td>\n",
       "      <td>143954</td>\n",
       "    </tr>\n",
       "    <tr>\n",
       "      <td>1</td>\n",
       "      <td>1994</td>\n",
       "      <td>Makkah</td>\n",
       "      <td>75349</td>\n",
       "    </tr>\n",
       "    <tr>\n",
       "      <td>2</td>\n",
       "      <td>1998</td>\n",
       "      <td>Makkah</td>\n",
       "      <td>86082</td>\n",
       "    </tr>\n",
       "    <tr>\n",
       "      <td>3</td>\n",
       "      <td>2004</td>\n",
       "      <td>Makkah</td>\n",
       "      <td>86636</td>\n",
       "    </tr>\n",
       "    <tr>\n",
       "      <td>4</td>\n",
       "      <td>2005</td>\n",
       "      <td>Makkah</td>\n",
       "      <td>65099</td>\n",
       "    </tr>\n",
       "    <tr>\n",
       "      <td>...</td>\n",
       "      <td>...</td>\n",
       "      <td>...</td>\n",
       "      <td>...</td>\n",
       "    </tr>\n",
       "    <tr>\n",
       "      <td>345</td>\n",
       "      <td>2000</td>\n",
       "      <td>Tabouk</td>\n",
       "      <td>8473</td>\n",
       "    </tr>\n",
       "    <tr>\n",
       "      <td>346</td>\n",
       "      <td>2006</td>\n",
       "      <td>Tabouk</td>\n",
       "      <td>8259</td>\n",
       "    </tr>\n",
       "    <tr>\n",
       "      <td>347</td>\n",
       "      <td>2013</td>\n",
       "      <td>Hail</td>\n",
       "      <td>9731</td>\n",
       "    </tr>\n",
       "    <tr>\n",
       "      <td>348</td>\n",
       "      <td>1997</td>\n",
       "      <td>Hail</td>\n",
       "      <td>6606</td>\n",
       "    </tr>\n",
       "    <tr>\n",
       "      <td>349</td>\n",
       "      <td>1999</td>\n",
       "      <td>Hail</td>\n",
       "      <td>3139</td>\n",
       "    </tr>\n",
       "  </tbody>\n",
       "</table>\n",
       "<p>325 rows × 3 columns</p>\n",
       "</div>"
      ],
      "text/plain": [
       "     year  region  driving_licenses\n",
       "0    2012  Makkah            143954\n",
       "1    1994  Makkah             75349\n",
       "2    1998  Makkah             86082\n",
       "3    2004  Makkah             86636\n",
       "4    2005  Makkah             65099\n",
       "..    ...     ...               ...\n",
       "345  2000  Tabouk              8473\n",
       "346  2006  Tabouk              8259\n",
       "347  2013    Hail              9731\n",
       "348  1997    Hail              6606\n",
       "349  1999    Hail              3139\n",
       "\n",
       "[325 rows x 3 columns]"
      ]
     },
     "execution_count": 28,
     "metadata": {},
     "output_type": "execute_result"
    }
   ],
   "source": [
    "licenses.drop(['geo_point_2d', 'x', 'y'], axis=1, inplace=True)\n",
    "licenses"
   ]
  },
  {
   "cell_type": "code",
   "execution_count": 29,
   "metadata": {
    "scrolled": true
   },
   "outputs": [
    {
     "name": "stdout",
     "output_type": "stream",
     "text": [
      "(6, 7)\n"
     ]
    }
   ],
   "source": [
    "# for accidents data frame \n",
    "# check how many (total) in the data frame\n",
    "is_total =  accidents['region']=='Total'\n",
    "region_total = accidents[is_total]\n",
    "print(region_total.shape)"
   ]
  },
  {
   "cell_type": "code",
   "execution_count": 30,
   "metadata": {},
   "outputs": [],
   "source": [
    "# drop rows that have (total) value in region colmun\n",
    "accidents.drop( accidents[ accidents['region'] == \"Total\" ].index , inplace=True)"
   ]
  },
  {
   "cell_type": "code",
   "execution_count": 31,
   "metadata": {},
   "outputs": [
    {
     "data": {
      "text/html": [
       "<div>\n",
       "<style scoped>\n",
       "    .dataframe tbody tr th:only-of-type {\n",
       "        vertical-align: middle;\n",
       "    }\n",
       "\n",
       "    .dataframe tbody tr th {\n",
       "        vertical-align: top;\n",
       "    }\n",
       "\n",
       "    .dataframe thead th {\n",
       "        text-align: right;\n",
       "    }\n",
       "</style>\n",
       "<table border=\"1\" class=\"dataframe\">\n",
       "  <thead>\n",
       "    <tr style=\"text-align: right;\">\n",
       "      <th></th>\n",
       "      <th>year</th>\n",
       "      <th>region</th>\n",
       "      <th>casualties</th>\n",
       "      <th>value</th>\n",
       "    </tr>\n",
       "  </thead>\n",
       "  <tbody>\n",
       "    <tr>\n",
       "      <td>0</td>\n",
       "      <td>2016</td>\n",
       "      <td>Makkah</td>\n",
       "      <td>No. of Casualties - Injured</td>\n",
       "      <td>12383</td>\n",
       "    </tr>\n",
       "    <tr>\n",
       "      <td>1</td>\n",
       "      <td>2016</td>\n",
       "      <td>Eastern Region</td>\n",
       "      <td>No. of Casualties - Dead</td>\n",
       "      <td>1113</td>\n",
       "    </tr>\n",
       "    <tr>\n",
       "      <td>2</td>\n",
       "      <td>2016</td>\n",
       "      <td>Tabouk</td>\n",
       "      <td>No. of Casualties - Dead</td>\n",
       "      <td>434</td>\n",
       "    </tr>\n",
       "    <tr>\n",
       "      <td>3</td>\n",
       "      <td>2016</td>\n",
       "      <td>Hail</td>\n",
       "      <td>No. of Casualties - Dead</td>\n",
       "      <td>299</td>\n",
       "    </tr>\n",
       "    <tr>\n",
       "      <td>4</td>\n",
       "      <td>2016</td>\n",
       "      <td>Hail</td>\n",
       "      <td>No. of Accidents</td>\n",
       "      <td>10199</td>\n",
       "    </tr>\n",
       "    <tr>\n",
       "      <td>...</td>\n",
       "      <td>...</td>\n",
       "      <td>...</td>\n",
       "      <td>...</td>\n",
       "      <td>...</td>\n",
       "    </tr>\n",
       "    <tr>\n",
       "      <td>79</td>\n",
       "      <td>2017</td>\n",
       "      <td>Asir</td>\n",
       "      <td>No. of Casualties - Injured</td>\n",
       "      <td>2368</td>\n",
       "    </tr>\n",
       "    <tr>\n",
       "      <td>80</td>\n",
       "      <td>2017</td>\n",
       "      <td>Hail</td>\n",
       "      <td>No. of Casualties - Injured</td>\n",
       "      <td>773</td>\n",
       "    </tr>\n",
       "    <tr>\n",
       "      <td>81</td>\n",
       "      <td>2017</td>\n",
       "      <td>Al-Baha</td>\n",
       "      <td>No. of Casualties - Dead</td>\n",
       "      <td>134</td>\n",
       "    </tr>\n",
       "    <tr>\n",
       "      <td>82</td>\n",
       "      <td>2017</td>\n",
       "      <td>Al-Baha</td>\n",
       "      <td>No. of Accidents</td>\n",
       "      <td>1414</td>\n",
       "    </tr>\n",
       "    <tr>\n",
       "      <td>83</td>\n",
       "      <td>2017</td>\n",
       "      <td>Al-Baha</td>\n",
       "      <td>No. of Casualties - Injured</td>\n",
       "      <td>1007</td>\n",
       "    </tr>\n",
       "  </tbody>\n",
       "</table>\n",
       "<p>78 rows × 4 columns</p>\n",
       "</div>"
      ],
      "text/plain": [
       "    year          region                   casualties  value\n",
       "0   2016          Makkah  No. of Casualties - Injured  12383\n",
       "1   2016  Eastern Region     No. of Casualties - Dead   1113\n",
       "2   2016          Tabouk     No. of Casualties - Dead    434\n",
       "3   2016            Hail     No. of Casualties - Dead    299\n",
       "4   2016            Hail             No. of Accidents  10199\n",
       "..   ...             ...                          ...    ...\n",
       "79  2017            Asir  No. of Casualties - Injured   2368\n",
       "80  2017            Hail  No. of Casualties - Injured    773\n",
       "81  2017         Al-Baha     No. of Casualties - Dead    134\n",
       "82  2017         Al-Baha             No. of Accidents   1414\n",
       "83  2017         Al-Baha  No. of Casualties - Injured   1007\n",
       "\n",
       "[78 rows x 4 columns]"
      ]
     },
     "execution_count": 31,
     "metadata": {},
     "output_type": "execute_result"
    }
   ],
   "source": [
    "accidents.drop(['geo_point_2d', 'x', 'y'], axis=1, inplace=True)\n",
    "accidents"
   ]
  },
  {
   "cell_type": "markdown",
   "metadata": {},
   "source": [
    "#### 8a. Data formats\n",
    "Is the License data in long or wide format? How about the Accident data? And why?"
   ]
  },
  {
   "cell_type": "markdown",
   "metadata": {},
   "source": [
    "Both dataframes in long format, because they have many rows up there."
   ]
  },
  {
   "cell_type": "markdown",
   "metadata": {},
   "source": [
    "#### 8b. Changing formats\n",
    "Which format would work best for both dataframes? Transform the datasets to the same format before merging in the next task."
   ]
  },
  {
   "cell_type": "markdown",
   "metadata": {},
   "source": [
    "The wide format would works best for both."
   ]
  },
  {
   "cell_type": "code",
   "execution_count": 32,
   "metadata": {},
   "outputs": [],
   "source": [
    "# First we define a custom function that returns a value if it exist and NaN if not\n",
    "def select_item_or_nan(x):\n",
    "    if len(x) >0 :\n",
    "        return x\n",
    "    else:\n",
    "        np.nan"
   ]
  },
  {
   "cell_type": "code",
   "execution_count": 33,
   "metadata": {},
   "outputs": [
    {
     "data": {
      "text/html": [
       "<div>\n",
       "<style scoped>\n",
       "    .dataframe tbody tr th:only-of-type {\n",
       "        vertical-align: middle;\n",
       "    }\n",
       "\n",
       "    .dataframe tbody tr th {\n",
       "        vertical-align: top;\n",
       "    }\n",
       "\n",
       "    .dataframe thead th {\n",
       "        text-align: right;\n",
       "    }\n",
       "</style>\n",
       "<table border=\"1\" class=\"dataframe\">\n",
       "  <thead>\n",
       "    <tr style=\"text-align: right;\">\n",
       "      <th></th>\n",
       "      <th></th>\n",
       "      <th>driving_licenses</th>\n",
       "    </tr>\n",
       "    <tr>\n",
       "      <th>region</th>\n",
       "      <th>year</th>\n",
       "      <th></th>\n",
       "    </tr>\n",
       "  </thead>\n",
       "  <tbody>\n",
       "    <tr>\n",
       "      <td rowspan=\"5\" valign=\"top\">Al-Baha</td>\n",
       "      <td>1993</td>\n",
       "      <td>3270</td>\n",
       "    </tr>\n",
       "    <tr>\n",
       "      <td>1994</td>\n",
       "      <td>2729</td>\n",
       "    </tr>\n",
       "    <tr>\n",
       "      <td>1995</td>\n",
       "      <td>2423</td>\n",
       "    </tr>\n",
       "    <tr>\n",
       "      <td>1996</td>\n",
       "      <td>1468</td>\n",
       "    </tr>\n",
       "    <tr>\n",
       "      <td>1997</td>\n",
       "      <td>3027</td>\n",
       "    </tr>\n",
       "    <tr>\n",
       "      <td>...</td>\n",
       "      <td>...</td>\n",
       "      <td>...</td>\n",
       "    </tr>\n",
       "    <tr>\n",
       "      <td rowspan=\"5\" valign=\"top\">Tabouk</td>\n",
       "      <td>2013</td>\n",
       "      <td>12848</td>\n",
       "    </tr>\n",
       "    <tr>\n",
       "      <td>2014</td>\n",
       "      <td>12188</td>\n",
       "    </tr>\n",
       "    <tr>\n",
       "      <td>2015</td>\n",
       "      <td>915</td>\n",
       "    </tr>\n",
       "    <tr>\n",
       "      <td>2016</td>\n",
       "      <td>13610</td>\n",
       "    </tr>\n",
       "    <tr>\n",
       "      <td>2017</td>\n",
       "      <td>10232</td>\n",
       "    </tr>\n",
       "  </tbody>\n",
       "</table>\n",
       "<p>325 rows × 1 columns</p>\n",
       "</div>"
      ],
      "text/plain": [
       "              driving_licenses\n",
       "region  year                  \n",
       "Al-Baha 1993              3270\n",
       "        1994              2729\n",
       "        1995              2423\n",
       "        1996              1468\n",
       "        1997              3027\n",
       "...                        ...\n",
       "Tabouk  2013             12848\n",
       "        2014             12188\n",
       "        2015               915\n",
       "        2016             13610\n",
       "        2017             10232\n",
       "\n",
       "[325 rows x 1 columns]"
      ]
     },
     "execution_count": 33,
     "metadata": {},
     "output_type": "execute_result"
    }
   ],
   "source": [
    "# changing dataframe to wide format\n",
    "licenses_wide = pd.pivot_table(licenses, index=['region' , 'year'], values='driving_licenses', fill_value=np.nan, aggfunc= select_item_or_nan)\n",
    "licenses_wide"
   ]
  },
  {
   "cell_type": "code",
   "execution_count": 34,
   "metadata": {},
   "outputs": [
    {
     "data": {
      "text/html": [
       "<div>\n",
       "<style scoped>\n",
       "    .dataframe tbody tr th:only-of-type {\n",
       "        vertical-align: middle;\n",
       "    }\n",
       "\n",
       "    .dataframe tbody tr th {\n",
       "        vertical-align: top;\n",
       "    }\n",
       "\n",
       "    .dataframe thead th {\n",
       "        text-align: right;\n",
       "    }\n",
       "</style>\n",
       "<table border=\"1\" class=\"dataframe\">\n",
       "  <thead>\n",
       "    <tr style=\"text-align: right;\">\n",
       "      <th></th>\n",
       "      <th>casualties</th>\n",
       "      <th>no_of_accidents</th>\n",
       "      <th>no_of_deads</th>\n",
       "      <th>no_of_injured</th>\n",
       "    </tr>\n",
       "    <tr>\n",
       "      <th>year</th>\n",
       "      <th>region</th>\n",
       "      <th></th>\n",
       "      <th></th>\n",
       "      <th></th>\n",
       "    </tr>\n",
       "  </thead>\n",
       "  <tbody>\n",
       "    <tr>\n",
       "      <td rowspan=\"13\" valign=\"top\">2016</td>\n",
       "      <td>Al-Baha</td>\n",
       "      <td>3618</td>\n",
       "      <td>185</td>\n",
       "      <td>1227</td>\n",
       "    </tr>\n",
       "    <tr>\n",
       "      <td>Al-Jouf</td>\n",
       "      <td>10212</td>\n",
       "      <td>245</td>\n",
       "      <td>920</td>\n",
       "    </tr>\n",
       "    <tr>\n",
       "      <td>Al-Qaseem</td>\n",
       "      <td>25664</td>\n",
       "      <td>397</td>\n",
       "      <td>1513</td>\n",
       "    </tr>\n",
       "    <tr>\n",
       "      <td>Asir</td>\n",
       "      <td>32684</td>\n",
       "      <td>983</td>\n",
       "      <td>2541</td>\n",
       "    </tr>\n",
       "    <tr>\n",
       "      <td>Eastern Region</td>\n",
       "      <td>101619</td>\n",
       "      <td>1113</td>\n",
       "      <td>4893</td>\n",
       "    </tr>\n",
       "    <tr>\n",
       "      <td>Hail</td>\n",
       "      <td>10199</td>\n",
       "      <td>299</td>\n",
       "      <td>932</td>\n",
       "    </tr>\n",
       "    <tr>\n",
       "      <td>Jazan</td>\n",
       "      <td>25873</td>\n",
       "      <td>514</td>\n",
       "      <td>2259</td>\n",
       "    </tr>\n",
       "    <tr>\n",
       "      <td>Madinah</td>\n",
       "      <td>14475</td>\n",
       "      <td>822</td>\n",
       "      <td>4184</td>\n",
       "    </tr>\n",
       "    <tr>\n",
       "      <td>Makkah</td>\n",
       "      <td>134838</td>\n",
       "      <td>2243</td>\n",
       "      <td>12383</td>\n",
       "    </tr>\n",
       "    <tr>\n",
       "      <td>Najran</td>\n",
       "      <td>3235</td>\n",
       "      <td>173</td>\n",
       "      <td>706</td>\n",
       "    </tr>\n",
       "    <tr>\n",
       "      <td>Northern Boarder</td>\n",
       "      <td>13196</td>\n",
       "      <td>193</td>\n",
       "      <td>631</td>\n",
       "    </tr>\n",
       "    <tr>\n",
       "      <td>Riyadh</td>\n",
       "      <td>141736</td>\n",
       "      <td>1430</td>\n",
       "      <td>4207</td>\n",
       "    </tr>\n",
       "    <tr>\n",
       "      <td>Tabouk</td>\n",
       "      <td>16031</td>\n",
       "      <td>434</td>\n",
       "      <td>1724</td>\n",
       "    </tr>\n",
       "    <tr>\n",
       "      <td rowspan=\"13\" valign=\"top\">2017</td>\n",
       "      <td>Al-Baha</td>\n",
       "      <td>1414</td>\n",
       "      <td>134</td>\n",
       "      <td>1007</td>\n",
       "    </tr>\n",
       "    <tr>\n",
       "      <td>Al-Jouf</td>\n",
       "      <td>10469</td>\n",
       "      <td>240</td>\n",
       "      <td>862</td>\n",
       "    </tr>\n",
       "    <tr>\n",
       "      <td>Al-Qaseem</td>\n",
       "      <td>22405</td>\n",
       "      <td>319</td>\n",
       "      <td>1446</td>\n",
       "    </tr>\n",
       "    <tr>\n",
       "      <td>Asir</td>\n",
       "      <td>25245</td>\n",
       "      <td>828</td>\n",
       "      <td>2368</td>\n",
       "    </tr>\n",
       "    <tr>\n",
       "      <td>Eastern Region</td>\n",
       "      <td>81433</td>\n",
       "      <td>963</td>\n",
       "      <td>4073</td>\n",
       "    </tr>\n",
       "    <tr>\n",
       "      <td>Hail</td>\n",
       "      <td>9379</td>\n",
       "      <td>265</td>\n",
       "      <td>773</td>\n",
       "    </tr>\n",
       "    <tr>\n",
       "      <td>Jazan</td>\n",
       "      <td>22161</td>\n",
       "      <td>466</td>\n",
       "      <td>2207</td>\n",
       "    </tr>\n",
       "    <tr>\n",
       "      <td>Madinah</td>\n",
       "      <td>16070</td>\n",
       "      <td>580</td>\n",
       "      <td>2917</td>\n",
       "    </tr>\n",
       "    <tr>\n",
       "      <td>Makkah</td>\n",
       "      <td>145541</td>\n",
       "      <td>1641</td>\n",
       "      <td>10623</td>\n",
       "    </tr>\n",
       "    <tr>\n",
       "      <td>Najran</td>\n",
       "      <td>3193</td>\n",
       "      <td>194</td>\n",
       "      <td>766</td>\n",
       "    </tr>\n",
       "    <tr>\n",
       "      <td>Northern Boarder</td>\n",
       "      <td>11540</td>\n",
       "      <td>112</td>\n",
       "      <td>374</td>\n",
       "    </tr>\n",
       "    <tr>\n",
       "      <td>Riyadh</td>\n",
       "      <td>99925</td>\n",
       "      <td>1399</td>\n",
       "      <td>4540</td>\n",
       "    </tr>\n",
       "    <tr>\n",
       "      <td>Tabouk</td>\n",
       "      <td>11713</td>\n",
       "      <td>348</td>\n",
       "      <td>1243</td>\n",
       "    </tr>\n",
       "  </tbody>\n",
       "</table>\n",
       "</div>"
      ],
      "text/plain": [
       "casualties             no_of_accidents  no_of_deads  no_of_injured\n",
       "year region                                                       \n",
       "2016 Al-Baha                      3618          185           1227\n",
       "     Al-Jouf                     10212          245            920\n",
       "     Al-Qaseem                   25664          397           1513\n",
       "     Asir                        32684          983           2541\n",
       "     Eastern Region             101619         1113           4893\n",
       "     Hail                        10199          299            932\n",
       "     Jazan                       25873          514           2259\n",
       "     Madinah                     14475          822           4184\n",
       "     Makkah                     134838         2243          12383\n",
       "     Najran                       3235          173            706\n",
       "     Northern Boarder            13196          193            631\n",
       "     Riyadh                     141736         1430           4207\n",
       "     Tabouk                      16031          434           1724\n",
       "2017 Al-Baha                      1414          134           1007\n",
       "     Al-Jouf                     10469          240            862\n",
       "     Al-Qaseem                   22405          319           1446\n",
       "     Asir                        25245          828           2368\n",
       "     Eastern Region              81433          963           4073\n",
       "     Hail                         9379          265            773\n",
       "     Jazan                       22161          466           2207\n",
       "     Madinah                     16070          580           2917\n",
       "     Makkah                     145541         1641          10623\n",
       "     Najran                       3193          194            766\n",
       "     Northern Boarder            11540          112            374\n",
       "     Riyadh                      99925         1399           4540\n",
       "     Tabouk                      11713          348           1243"
      ]
     },
     "execution_count": 34,
     "metadata": {},
     "output_type": "execute_result"
    }
   ],
   "source": [
    "# changing dataframe to wide format\n",
    "accidents_wide = pd.pivot_table(accidents, index=['year', 'region'], columns='casualties', values='value', fill_value=np.nan, aggfunc= select_item_or_nan)\n",
    "accidents_wide.rename(columns={\n",
    "        'No. of Accidents':'no_of_accidents',\n",
    "        'No. of Casualties - Dead':'no_of_deads',\n",
    "        'No. of Casualties - Injured':'no_of_injured',\n",
    "    }, inplace=True)\n",
    "accidents_wide"
   ]
  },
  {
   "cell_type": "markdown",
   "metadata": {},
   "source": [
    "#### 9. Merge dataframes\n",
    "\n",
    "Join the Driving Licenses & Traffic Accidents dataframes using the **region** and **year** in each dataframe as the key. Assign this to a new variable. Which join should you use to preserve the most data?"
   ]
  },
  {
   "cell_type": "code",
   "execution_count": 35,
   "metadata": {},
   "outputs": [],
   "source": [
    "df_merge = pd.merge(licenses_wide, accidents_wide, how='outer', on=['region' , 'year'])\n",
    "df_inmerge = pd.merge(licenses_wide, accidents_wide, how='inner', on=['region' , 'year'])"
   ]
  },
  {
   "cell_type": "code",
   "execution_count": 36,
   "metadata": {},
   "outputs": [
    {
     "name": "stdout",
     "output_type": "stream",
     "text": [
      "<class 'pandas.core.frame.DataFrame'>\n",
      "MultiIndex: 325 entries, (Al-Baha, 1993) to (Tabouk, 2017)\n",
      "Data columns (total 4 columns):\n",
      "driving_licenses    325 non-null int64\n",
      "no_of_accidents     26 non-null float64\n",
      "no_of_deads         26 non-null float64\n",
      "no_of_injured       26 non-null float64\n",
      "dtypes: float64(3), int64(1)\n",
      "memory usage: 11.2+ KB\n"
     ]
    }
   ],
   "source": [
    "df_merge.info()"
   ]
  },
  {
   "cell_type": "code",
   "execution_count": 37,
   "metadata": {},
   "outputs": [
    {
     "name": "stdout",
     "output_type": "stream",
     "text": [
      "<class 'pandas.core.frame.DataFrame'>\n",
      "MultiIndex: 26 entries, (Al-Baha, 2016) to (Tabouk, 2017)\n",
      "Data columns (total 4 columns):\n",
      "driving_licenses    26 non-null int64\n",
      "no_of_accidents     26 non-null int64\n",
      "no_of_deads         26 non-null int64\n",
      "no_of_injured       26 non-null int64\n",
      "dtypes: int64(4)\n",
      "memory usage: 1.1+ KB\n"
     ]
    }
   ],
   "source": [
    "df_inmerge.info()"
   ]
  },
  {
   "cell_type": "markdown",
   "metadata": {},
   "source": [
    "#### 10. Save your cleaned, merged dataframe\n",
    "\n",
    "Use a relative path to save out your data as `combined_datasets.csv`."
   ]
  },
  {
   "cell_type": "code",
   "execution_count": 38,
   "metadata": {},
   "outputs": [],
   "source": [
    "df_merge.to_csv('combined_datasets.csv')"
   ]
  },
  {
   "cell_type": "markdown",
   "metadata": {},
   "source": [
    "### Summary Statistics\n",
    "Transpose the output of pandas `describe` method to create a quick overview of each numeric feature."
   ]
  },
  {
   "cell_type": "code",
   "execution_count": 39,
   "metadata": {
    "scrolled": false
   },
   "outputs": [
    {
     "data": {
      "text/html": [
       "<div>\n",
       "<style scoped>\n",
       "    .dataframe tbody tr th:only-of-type {\n",
       "        vertical-align: middle;\n",
       "    }\n",
       "\n",
       "    .dataframe tbody tr th {\n",
       "        vertical-align: top;\n",
       "    }\n",
       "\n",
       "    .dataframe thead th {\n",
       "        text-align: right;\n",
       "    }\n",
       "</style>\n",
       "<table border=\"1\" class=\"dataframe\">\n",
       "  <thead>\n",
       "    <tr style=\"text-align: right;\">\n",
       "      <th></th>\n",
       "      <th>count</th>\n",
       "      <th>mean</th>\n",
       "      <th>std</th>\n",
       "      <th>min</th>\n",
       "      <th>25%</th>\n",
       "      <th>50%</th>\n",
       "      <th>75%</th>\n",
       "      <th>max</th>\n",
       "    </tr>\n",
       "  </thead>\n",
       "  <tbody>\n",
       "    <tr>\n",
       "      <td>driving_licenses</td>\n",
       "      <td>26.0</td>\n",
       "      <td>62507.000000</td>\n",
       "      <td>107293.917762</td>\n",
       "      <td>2153.0</td>\n",
       "      <td>8363.25</td>\n",
       "      <td>16085.0</td>\n",
       "      <td>51222.00</td>\n",
       "      <td>495307.0</td>\n",
       "    </tr>\n",
       "    <tr>\n",
       "      <td>no_of_accidents</td>\n",
       "      <td>26.0</td>\n",
       "      <td>38225.692308</td>\n",
       "      <td>46493.705035</td>\n",
       "      <td>1414.0</td>\n",
       "      <td>10276.25</td>\n",
       "      <td>16050.5</td>\n",
       "      <td>30981.25</td>\n",
       "      <td>145541.0</td>\n",
       "    </tr>\n",
       "    <tr>\n",
       "      <td>no_of_deads</td>\n",
       "      <td>26.0</td>\n",
       "      <td>635.384615</td>\n",
       "      <td>549.783381</td>\n",
       "      <td>112.0</td>\n",
       "      <td>241.25</td>\n",
       "      <td>415.5</td>\n",
       "      <td>929.25</td>\n",
       "      <td>2243.0</td>\n",
       "    </tr>\n",
       "    <tr>\n",
       "      <td>no_of_injured</td>\n",
       "      <td>26.0</td>\n",
       "      <td>2743.038462</td>\n",
       "      <td>2922.641127</td>\n",
       "      <td>374.0</td>\n",
       "      <td>923.00</td>\n",
       "      <td>1618.5</td>\n",
       "      <td>3784.00</td>\n",
       "      <td>12383.0</td>\n",
       "    </tr>\n",
       "  </tbody>\n",
       "</table>\n",
       "</div>"
      ],
      "text/plain": [
       "                  count          mean            std     min       25%  \\\n",
       "driving_licenses   26.0  62507.000000  107293.917762  2153.0   8363.25   \n",
       "no_of_accidents    26.0  38225.692308   46493.705035  1414.0  10276.25   \n",
       "no_of_deads        26.0    635.384615     549.783381   112.0    241.25   \n",
       "no_of_injured      26.0   2743.038462    2922.641127   374.0    923.00   \n",
       "\n",
       "                      50%       75%       max  \n",
       "driving_licenses  16085.0  51222.00  495307.0  \n",
       "no_of_accidents   16050.5  30981.25  145541.0  \n",
       "no_of_deads         415.5    929.25    2243.0  \n",
       "no_of_injured      1618.5   3784.00   12383.0  "
      ]
     },
     "execution_count": 39,
     "metadata": {},
     "output_type": "execute_result"
    }
   ],
   "source": [
    "df_inmerge.describe().transpose()"
   ]
  },
  {
   "cell_type": "markdown",
   "metadata": {},
   "source": [
    "#### Manually calculate standard deviation\n",
    "\n",
    "$$\\sigma = \\sqrt{\\frac{1}{n}\\sum_{i=1}^n(x_i - \\mu)^2}$$\n",
    "\n",
    "- Write a function to calculate standard deviation using the formula above"
   ]
  },
  {
   "cell_type": "code",
   "execution_count": 40,
   "metadata": {},
   "outputs": [
    {
     "name": "stdout",
     "output_type": "stream",
     "text": [
      "45590.82869880506\n"
     ]
    }
   ],
   "source": [
    "#code\n",
    "std = df_inmerge['no_of_accidents']\n",
    "import math\n",
    "\n",
    "def mean(values):\n",
    "    return sum(values)/len(values)\n",
    "    \n",
    "def stanDev(values):\n",
    "    \n",
    "    #find the length of the values\n",
    "    length = len(values)\n",
    "\n",
    "    #call the mean function\n",
    "    m = mean(values)\n",
    "\n",
    "    #create a sum variable since this is not the same\n",
    "    total_sum = 0\n",
    "\n",
    "    #start a for loop going through each number in values\n",
    "    for i in range(length): \n",
    "\n",
    "        #add the number for stan. dev. to sum\n",
    "        total_sum += (values[i]-m)**2\n",
    "\n",
    "    #return the standard deviation\n",
    "    return math.sqrt(total_sum/length)\n",
    "\n",
    "#assign a variable stan_dev to the standard deviation of the column\n",
    "stan_dev = stanDev(std)\n",
    "\n",
    "#then print the value\n",
    "print(stan_dev)"
   ]
  },
  {
   "cell_type": "code",
   "execution_count": 41,
   "metadata": {},
   "outputs": [
    {
     "data": {
      "text/plain": [
       "driving_licenses    105210.342377\n",
       "no_of_accidents      45590.828699\n",
       "no_of_deads            539.106959\n",
       "no_of_injured         2865.885411\n",
       "dtype: float64"
      ]
     },
     "execution_count": 41,
     "metadata": {},
     "output_type": "execute_result"
    }
   ],
   "source": [
    "np.std(df_inmerge)"
   ]
  },
  {
   "cell_type": "markdown",
   "metadata": {},
   "source": [
    "- Use a **dictionary comprehension** to apply your standard deviation function to each numeric column in the dataframe.  **No loops**  \n",
    "- Assign the output to variable `sd` as a dictionary where: \n",
    "    - Each column name is now a key \n",
    "    - That standard deviation of the column is the value \n",
    "     \n",
    "*Example Output :* `{'Driving_Licenses_x': 120, 'Traffic_Accidents_x': 120, ...}`"
   ]
  },
  {
   "cell_type": "code",
   "execution_count": 42,
   "metadata": {},
   "outputs": [
    {
     "data": {
      "text/plain": [
       "{'driving_licenses': 105210.34237659337,\n",
       " 'no_of_accidents': 45590.82869880506,\n",
       " 'no_of_deads': 539.1069593406002,\n",
       " 'no_of_injured': 2865.8854113220236}"
      ]
     },
     "execution_count": 42,
     "metadata": {},
     "output_type": "execute_result"
    }
   ],
   "source": [
    "{df_inmerge.columns[f]:stanDev(df_inmerge[i].values) for f,i in enumerate(df_inmerge.columns)}"
   ]
  },
  {
   "cell_type": "markdown",
   "metadata": {},
   "source": [
    "Do your manually calculated standard deviations match up with the output from pandas `describe`? What about numpy's `std` method?"
   ]
  },
  {
   "cell_type": "markdown",
   "metadata": {},
   "source": [
    "Answer: There is a difference between manually calculated standard deviations and the output of pandas `describe` but same result in `std` method."
   ]
  },
  {
   "cell_type": "markdown",
   "metadata": {},
   "source": [
    "#### Investigate trends in the data\n",
    "Using sorting and/or masking (along with the `.head` method to not print our entire dataframe), consider the following questions:\n",
    "\n",
    "- Which regions have the highest and lowest Driving Licenses based on years (1993 - 2017)\n",
    "- Which regions have the highest and lowest mean Traffic Accidents numbers for years (2016 - 2017)\n",
    "- What are the regions that have more Driving Licenses issued in each year than the year average?\n",
    "- What are the regions that have more Traffic Accidents happened in each year than the year average?\n"
   ]
  },
  {
   "cell_type": "code",
   "execution_count": 43,
   "metadata": {},
   "outputs": [
    {
     "data": {
      "text/html": [
       "<div>\n",
       "<style scoped>\n",
       "    .dataframe tbody tr th:only-of-type {\n",
       "        vertical-align: middle;\n",
       "    }\n",
       "\n",
       "    .dataframe tbody tr th {\n",
       "        vertical-align: top;\n",
       "    }\n",
       "\n",
       "    .dataframe thead th {\n",
       "        text-align: right;\n",
       "    }\n",
       "</style>\n",
       "<table border=\"1\" class=\"dataframe\">\n",
       "  <thead>\n",
       "    <tr style=\"text-align: right;\">\n",
       "      <th></th>\n",
       "      <th></th>\n",
       "      <th>driving_licenses</th>\n",
       "      <th>no_of_accidents</th>\n",
       "      <th>no_of_deads</th>\n",
       "      <th>no_of_injured</th>\n",
       "    </tr>\n",
       "    <tr>\n",
       "      <th>region</th>\n",
       "      <th>year</th>\n",
       "      <th></th>\n",
       "      <th></th>\n",
       "      <th></th>\n",
       "      <th></th>\n",
       "    </tr>\n",
       "  </thead>\n",
       "  <tbody>\n",
       "    <tr>\n",
       "      <td rowspan=\"4\" valign=\"top\">Riyadh</td>\n",
       "      <td>2017</td>\n",
       "      <td>495307</td>\n",
       "      <td>99925.0</td>\n",
       "      <td>1399.0</td>\n",
       "      <td>4540.0</td>\n",
       "    </tr>\n",
       "    <tr>\n",
       "      <td>2016</td>\n",
       "      <td>242851</td>\n",
       "      <td>141736.0</td>\n",
       "      <td>1430.0</td>\n",
       "      <td>4207.0</td>\n",
       "    </tr>\n",
       "    <tr>\n",
       "      <td>2014</td>\n",
       "      <td>194208</td>\n",
       "      <td>NaN</td>\n",
       "      <td>NaN</td>\n",
       "      <td>NaN</td>\n",
       "    </tr>\n",
       "    <tr>\n",
       "      <td>2013</td>\n",
       "      <td>165994</td>\n",
       "      <td>NaN</td>\n",
       "      <td>NaN</td>\n",
       "      <td>NaN</td>\n",
       "    </tr>\n",
       "    <tr>\n",
       "      <td>Makkah</td>\n",
       "      <td>2015</td>\n",
       "      <td>157389</td>\n",
       "      <td>NaN</td>\n",
       "      <td>NaN</td>\n",
       "      <td>NaN</td>\n",
       "    </tr>\n",
       "    <tr>\n",
       "      <td>Eastern Region</td>\n",
       "      <td>2011</td>\n",
       "      <td>151087</td>\n",
       "      <td>NaN</td>\n",
       "      <td>NaN</td>\n",
       "      <td>NaN</td>\n",
       "    </tr>\n",
       "    <tr>\n",
       "      <td rowspan=\"3\" valign=\"top\">Makkah</td>\n",
       "      <td>2014</td>\n",
       "      <td>149234</td>\n",
       "      <td>NaN</td>\n",
       "      <td>NaN</td>\n",
       "      <td>NaN</td>\n",
       "    </tr>\n",
       "    <tr>\n",
       "      <td>2012</td>\n",
       "      <td>143954</td>\n",
       "      <td>NaN</td>\n",
       "      <td>NaN</td>\n",
       "      <td>NaN</td>\n",
       "    </tr>\n",
       "    <tr>\n",
       "      <td>2017</td>\n",
       "      <td>142487</td>\n",
       "      <td>145541.0</td>\n",
       "      <td>1641.0</td>\n",
       "      <td>10623.0</td>\n",
       "    </tr>\n",
       "    <tr>\n",
       "      <td>Eastern Region</td>\n",
       "      <td>2016</td>\n",
       "      <td>142307</td>\n",
       "      <td>101619.0</td>\n",
       "      <td>1113.0</td>\n",
       "      <td>4893.0</td>\n",
       "    </tr>\n",
       "  </tbody>\n",
       "</table>\n",
       "</div>"
      ],
      "text/plain": [
       "                     driving_licenses  no_of_accidents  no_of_deads  \\\n",
       "region         year                                                   \n",
       "Riyadh         2017            495307          99925.0       1399.0   \n",
       "               2016            242851         141736.0       1430.0   \n",
       "               2014            194208              NaN          NaN   \n",
       "               2013            165994              NaN          NaN   \n",
       "Makkah         2015            157389              NaN          NaN   \n",
       "Eastern Region 2011            151087              NaN          NaN   \n",
       "Makkah         2014            149234              NaN          NaN   \n",
       "               2012            143954              NaN          NaN   \n",
       "               2017            142487         145541.0       1641.0   \n",
       "Eastern Region 2016            142307         101619.0       1113.0   \n",
       "\n",
       "                     no_of_injured  \n",
       "region         year                 \n",
       "Riyadh         2017         4540.0  \n",
       "               2016         4207.0  \n",
       "               2014            NaN  \n",
       "               2013            NaN  \n",
       "Makkah         2015            NaN  \n",
       "Eastern Region 2011            NaN  \n",
       "Makkah         2014            NaN  \n",
       "               2012            NaN  \n",
       "               2017        10623.0  \n",
       "Eastern Region 2016         4893.0  "
      ]
     },
     "execution_count": 43,
     "metadata": {},
     "output_type": "execute_result"
    }
   ],
   "source": [
    "mask = df_merge.nlargest(10, 'driving_licenses')\n",
    "mask.head(10)\n",
    "# The highest number of driving licenses was in Riyadh in 2017"
   ]
  },
  {
   "cell_type": "code",
   "execution_count": 44,
   "metadata": {},
   "outputs": [
    {
     "data": {
      "text/html": [
       "<div>\n",
       "<style scoped>\n",
       "    .dataframe tbody tr th:only-of-type {\n",
       "        vertical-align: middle;\n",
       "    }\n",
       "\n",
       "    .dataframe tbody tr th {\n",
       "        vertical-align: top;\n",
       "    }\n",
       "\n",
       "    .dataframe thead th {\n",
       "        text-align: right;\n",
       "    }\n",
       "</style>\n",
       "<table border=\"1\" class=\"dataframe\">\n",
       "  <thead>\n",
       "    <tr style=\"text-align: right;\">\n",
       "      <th></th>\n",
       "      <th></th>\n",
       "      <th>driving_licenses</th>\n",
       "      <th>no_of_accidents</th>\n",
       "      <th>no_of_deads</th>\n",
       "      <th>no_of_injured</th>\n",
       "    </tr>\n",
       "    <tr>\n",
       "      <th>region</th>\n",
       "      <th>year</th>\n",
       "      <th></th>\n",
       "      <th></th>\n",
       "      <th></th>\n",
       "      <th></th>\n",
       "    </tr>\n",
       "  </thead>\n",
       "  <tbody>\n",
       "    <tr>\n",
       "      <td>Tabouk</td>\n",
       "      <td>2015</td>\n",
       "      <td>915</td>\n",
       "      <td>NaN</td>\n",
       "      <td>NaN</td>\n",
       "      <td>NaN</td>\n",
       "    </tr>\n",
       "    <tr>\n",
       "      <td>Al-Baha</td>\n",
       "      <td>2007</td>\n",
       "      <td>997</td>\n",
       "      <td>NaN</td>\n",
       "      <td>NaN</td>\n",
       "      <td>NaN</td>\n",
       "    </tr>\n",
       "    <tr>\n",
       "      <td rowspan=\"3\" valign=\"top\">Northern Boarder</td>\n",
       "      <td>1995</td>\n",
       "      <td>1318</td>\n",
       "      <td>NaN</td>\n",
       "      <td>NaN</td>\n",
       "      <td>NaN</td>\n",
       "    </tr>\n",
       "    <tr>\n",
       "      <td>1996</td>\n",
       "      <td>1383</td>\n",
       "      <td>NaN</td>\n",
       "      <td>NaN</td>\n",
       "      <td>NaN</td>\n",
       "    </tr>\n",
       "    <tr>\n",
       "      <td>1994</td>\n",
       "      <td>1457</td>\n",
       "      <td>NaN</td>\n",
       "      <td>NaN</td>\n",
       "      <td>NaN</td>\n",
       "    </tr>\n",
       "  </tbody>\n",
       "</table>\n",
       "</div>"
      ],
      "text/plain": [
       "                       driving_licenses  no_of_accidents  no_of_deads  \\\n",
       "region           year                                                   \n",
       "Tabouk           2015               915              NaN          NaN   \n",
       "Al-Baha          2007               997              NaN          NaN   \n",
       "Northern Boarder 1995              1318              NaN          NaN   \n",
       "                 1996              1383              NaN          NaN   \n",
       "                 1994              1457              NaN          NaN   \n",
       "\n",
       "                       no_of_injured  \n",
       "region           year                 \n",
       "Tabouk           2015            NaN  \n",
       "Al-Baha          2007            NaN  \n",
       "Northern Boarder 1995            NaN  \n",
       "                 1996            NaN  \n",
       "                 1994            NaN  "
      ]
     },
     "execution_count": 44,
     "metadata": {},
     "output_type": "execute_result"
    }
   ],
   "source": [
    "df_merge.sort_values(by=['driving_licenses', 'year']).head()\n",
    "# The lowest number of driving licenses was in Tabouk in 2015"
   ]
  },
  {
   "cell_type": "markdown",
   "metadata": {},
   "source": [
    "Regarding to the results, the highest driving licenses issued were in Riyadh, Makkah and Eastern Region. For the lowest issuance, they were in Tabouk, Al-Baha and Northern Boarder."
   ]
  },
  {
   "cell_type": "code",
   "execution_count": 45,
   "metadata": {},
   "outputs": [
    {
     "data": {
      "text/html": [
       "<div>\n",
       "<style scoped>\n",
       "    .dataframe tbody tr th:only-of-type {\n",
       "        vertical-align: middle;\n",
       "    }\n",
       "\n",
       "    .dataframe tbody tr th {\n",
       "        vertical-align: top;\n",
       "    }\n",
       "\n",
       "    .dataframe thead th {\n",
       "        text-align: right;\n",
       "    }\n",
       "</style>\n",
       "<table border=\"1\" class=\"dataframe\">\n",
       "  <thead>\n",
       "    <tr style=\"text-align: right;\">\n",
       "      <th></th>\n",
       "      <th>driving_licenses</th>\n",
       "      <th>no_of_accidents</th>\n",
       "      <th>no_of_deads</th>\n",
       "      <th>no_of_injured</th>\n",
       "    </tr>\n",
       "    <tr>\n",
       "      <th>region</th>\n",
       "      <th></th>\n",
       "      <th></th>\n",
       "      <th></th>\n",
       "      <th></th>\n",
       "    </tr>\n",
       "  </thead>\n",
       "  <tbody>\n",
       "    <tr>\n",
       "      <td>Makkah</td>\n",
       "      <td>139271.0</td>\n",
       "      <td>140189.5</td>\n",
       "      <td>1942.0</td>\n",
       "      <td>11503.0</td>\n",
       "    </tr>\n",
       "    <tr>\n",
       "      <td>Riyadh</td>\n",
       "      <td>369079.0</td>\n",
       "      <td>120830.5</td>\n",
       "      <td>1414.5</td>\n",
       "      <td>4373.5</td>\n",
       "    </tr>\n",
       "    <tr>\n",
       "      <td>Eastern Region</td>\n",
       "      <td>134561.5</td>\n",
       "      <td>91526.0</td>\n",
       "      <td>1038.0</td>\n",
       "      <td>4483.0</td>\n",
       "    </tr>\n",
       "    <tr>\n",
       "      <td>Asir</td>\n",
       "      <td>40250.0</td>\n",
       "      <td>28964.5</td>\n",
       "      <td>905.5</td>\n",
       "      <td>2454.5</td>\n",
       "    </tr>\n",
       "    <tr>\n",
       "      <td>Al-Qaseem</td>\n",
       "      <td>7749.0</td>\n",
       "      <td>24034.5</td>\n",
       "      <td>358.0</td>\n",
       "      <td>1479.5</td>\n",
       "    </tr>\n",
       "  </tbody>\n",
       "</table>\n",
       "</div>"
      ],
      "text/plain": [
       "                driving_licenses  no_of_accidents  no_of_deads  no_of_injured\n",
       "region                                                                       \n",
       "Makkah                  139271.0         140189.5       1942.0        11503.0\n",
       "Riyadh                  369079.0         120830.5       1414.5         4373.5\n",
       "Eastern Region          134561.5          91526.0       1038.0         4483.0\n",
       "Asir                     40250.0          28964.5        905.5         2454.5\n",
       "Al-Qaseem                 7749.0          24034.5        358.0         1479.5"
      ]
     },
     "execution_count": 45,
     "metadata": {},
     "output_type": "execute_result"
    }
   ],
   "source": [
    "df_inmerge.groupby(['region']).mean().sort_values('no_of_accidents', ascending=False).head(5)\n",
    "# The highest mean of traffic accidents numbers for years (2016 - 2017) was in Makkah"
   ]
  },
  {
   "cell_type": "code",
   "execution_count": 46,
   "metadata": {},
   "outputs": [
    {
     "data": {
      "text/html": [
       "<div>\n",
       "<style scoped>\n",
       "    .dataframe tbody tr th:only-of-type {\n",
       "        vertical-align: middle;\n",
       "    }\n",
       "\n",
       "    .dataframe tbody tr th {\n",
       "        vertical-align: top;\n",
       "    }\n",
       "\n",
       "    .dataframe thead th {\n",
       "        text-align: right;\n",
       "    }\n",
       "</style>\n",
       "<table border=\"1\" class=\"dataframe\">\n",
       "  <thead>\n",
       "    <tr style=\"text-align: right;\">\n",
       "      <th></th>\n",
       "      <th>driving_licenses</th>\n",
       "      <th>no_of_accidents</th>\n",
       "      <th>no_of_deads</th>\n",
       "      <th>no_of_injured</th>\n",
       "    </tr>\n",
       "    <tr>\n",
       "      <th>region</th>\n",
       "      <th></th>\n",
       "      <th></th>\n",
       "      <th></th>\n",
       "      <th></th>\n",
       "    </tr>\n",
       "  </thead>\n",
       "  <tbody>\n",
       "    <tr>\n",
       "      <td>Al-Baha</td>\n",
       "      <td>4372.5</td>\n",
       "      <td>2516.0</td>\n",
       "      <td>159.5</td>\n",
       "      <td>1117.0</td>\n",
       "    </tr>\n",
       "    <tr>\n",
       "      <td>Najran</td>\n",
       "      <td>7989.0</td>\n",
       "      <td>3214.0</td>\n",
       "      <td>183.5</td>\n",
       "      <td>736.0</td>\n",
       "    </tr>\n",
       "    <tr>\n",
       "      <td>Hail</td>\n",
       "      <td>38271.0</td>\n",
       "      <td>9789.0</td>\n",
       "      <td>282.0</td>\n",
       "      <td>852.5</td>\n",
       "    </tr>\n",
       "    <tr>\n",
       "      <td>Al-Jouf</td>\n",
       "      <td>8731.0</td>\n",
       "      <td>10340.5</td>\n",
       "      <td>242.5</td>\n",
       "      <td>891.0</td>\n",
       "    </tr>\n",
       "    <tr>\n",
       "      <td>Northern Boarder</td>\n",
       "      <td>5119.0</td>\n",
       "      <td>12368.0</td>\n",
       "      <td>152.5</td>\n",
       "      <td>502.5</td>\n",
       "    </tr>\n",
       "  </tbody>\n",
       "</table>\n",
       "</div>"
      ],
      "text/plain": [
       "                  driving_licenses  no_of_accidents  no_of_deads  \\\n",
       "region                                                             \n",
       "Al-Baha                     4372.5           2516.0        159.5   \n",
       "Najran                      7989.0           3214.0        183.5   \n",
       "Hail                       38271.0           9789.0        282.0   \n",
       "Al-Jouf                     8731.0          10340.5        242.5   \n",
       "Northern Boarder            5119.0          12368.0        152.5   \n",
       "\n",
       "                  no_of_injured  \n",
       "region                           \n",
       "Al-Baha                  1117.0  \n",
       "Najran                    736.0  \n",
       "Hail                      852.5  \n",
       "Al-Jouf                   891.0  \n",
       "Northern Boarder          502.5  "
      ]
     },
     "execution_count": 46,
     "metadata": {},
     "output_type": "execute_result"
    }
   ],
   "source": [
    "df_inmerge.groupby(['region']).mean().sort_values('no_of_accidents').head(5)\n",
    "# The lowest mean of traffic accidents numbers for years (2016 - 2017) was in Al-Baha"
   ]
  },
  {
   "cell_type": "markdown",
   "metadata": {},
   "source": [
    "Regarding to the results, the highest mean of traffic accidents was in Makkah and the lowest one was in Al-Baha"
   ]
  },
  {
   "cell_type": "code",
   "execution_count": 47,
   "metadata": {},
   "outputs": [
    {
     "data": {
      "text/html": [
       "<div>\n",
       "<style scoped>\n",
       "    .dataframe tbody tr th:only-of-type {\n",
       "        vertical-align: middle;\n",
       "    }\n",
       "\n",
       "    .dataframe tbody tr th {\n",
       "        vertical-align: top;\n",
       "    }\n",
       "\n",
       "    .dataframe thead th {\n",
       "        text-align: right;\n",
       "    }\n",
       "</style>\n",
       "<table border=\"1\" class=\"dataframe\">\n",
       "  <thead>\n",
       "    <tr style=\"text-align: right;\">\n",
       "      <th></th>\n",
       "      <th></th>\n",
       "      <th>driving_licenses</th>\n",
       "      <th>mean_licenses</th>\n",
       "    </tr>\n",
       "    <tr>\n",
       "      <th>year</th>\n",
       "      <th>region</th>\n",
       "      <th></th>\n",
       "      <th></th>\n",
       "    </tr>\n",
       "  </thead>\n",
       "  <tbody>\n",
       "    <tr>\n",
       "      <td>2005</td>\n",
       "      <td>Riyadh</td>\n",
       "      <td>23245</td>\n",
       "      <td>19323.307692</td>\n",
       "    </tr>\n",
       "    <tr>\n",
       "      <td>2004</td>\n",
       "      <td>Riyadh</td>\n",
       "      <td>23479</td>\n",
       "      <td>20672.153846</td>\n",
       "    </tr>\n",
       "    <tr>\n",
       "      <td>2002</td>\n",
       "      <td>Riyadh</td>\n",
       "      <td>25423</td>\n",
       "      <td>21695.230769</td>\n",
       "    </tr>\n",
       "    <tr>\n",
       "      <td>2003</td>\n",
       "      <td>Riyadh</td>\n",
       "      <td>26076</td>\n",
       "      <td>19604.461538</td>\n",
       "    </tr>\n",
       "    <tr>\n",
       "      <td>2010</td>\n",
       "      <td>Riyadh</td>\n",
       "      <td>31378</td>\n",
       "      <td>29731.538462</td>\n",
       "    </tr>\n",
       "    <tr>\n",
       "      <td>2006</td>\n",
       "      <td>Riyadh</td>\n",
       "      <td>36059</td>\n",
       "      <td>20577.538462</td>\n",
       "    </tr>\n",
       "    <tr>\n",
       "      <td>2007</td>\n",
       "      <td>Riyadh</td>\n",
       "      <td>36261</td>\n",
       "      <td>25488.923077</td>\n",
       "    </tr>\n",
       "    <tr>\n",
       "      <td>2010</td>\n",
       "      <td>Al-Qaseem</td>\n",
       "      <td>36737</td>\n",
       "      <td>29731.538462</td>\n",
       "    </tr>\n",
       "    <tr>\n",
       "      <td>2008</td>\n",
       "      <td>Riyadh</td>\n",
       "      <td>36798</td>\n",
       "      <td>25396.769231</td>\n",
       "    </tr>\n",
       "    <tr>\n",
       "      <td>2009</td>\n",
       "      <td>Riyadh</td>\n",
       "      <td>38014</td>\n",
       "      <td>28944.230769</td>\n",
       "    </tr>\n",
       "  </tbody>\n",
       "</table>\n",
       "</div>"
      ],
      "text/plain": [
       "                driving_licenses  mean_licenses\n",
       "year region                                    \n",
       "2005 Riyadh                23245   19323.307692\n",
       "2004 Riyadh                23479   20672.153846\n",
       "2002 Riyadh                25423   21695.230769\n",
       "2003 Riyadh                26076   19604.461538\n",
       "2010 Riyadh                31378   29731.538462\n",
       "2006 Riyadh                36059   20577.538462\n",
       "2007 Riyadh                36261   25488.923077\n",
       "2010 Al-Qaseem             36737   29731.538462\n",
       "2008 Riyadh                36798   25396.769231\n",
       "2009 Riyadh                38014   28944.230769"
      ]
     },
     "execution_count": 47,
     "metadata": {},
     "output_type": "execute_result"
    }
   ],
   "source": [
    "# assign a variable ss to the dataframe with groupby 'year'\n",
    "ss = df_merge.groupby(['year'])\n",
    "\n",
    "# calculate mean for each rows in the column 'driving_licenses' and add the results as a new column to the main dataframe\n",
    "df_merge['mean_licenses'] = ss['driving_licenses'].transform(np.mean)\n",
    "\n",
    "# compare between number of licenses and the mean of it\n",
    "regions = df_merge[(df_merge['driving_licenses'] > df_merge['mean_licenses'])]\n",
    "\n",
    "# print the results as a new dataframe\n",
    "ff = regions.groupby(['year', 'region'])[['driving_licenses','mean_licenses']].max()\n",
    "ff.sort_values('driving_licenses').head(10)"
   ]
  },
  {
   "cell_type": "code",
   "execution_count": 48,
   "metadata": {},
   "outputs": [
    {
     "data": {
      "text/html": [
       "<div>\n",
       "<style scoped>\n",
       "    .dataframe tbody tr th:only-of-type {\n",
       "        vertical-align: middle;\n",
       "    }\n",
       "\n",
       "    .dataframe tbody tr th {\n",
       "        vertical-align: top;\n",
       "    }\n",
       "\n",
       "    .dataframe thead th {\n",
       "        text-align: right;\n",
       "    }\n",
       "</style>\n",
       "<table border=\"1\" class=\"dataframe\">\n",
       "  <thead>\n",
       "    <tr style=\"text-align: right;\">\n",
       "      <th></th>\n",
       "      <th></th>\n",
       "      <th>no_of_accidents</th>\n",
       "      <th>mean_accidents</th>\n",
       "    </tr>\n",
       "    <tr>\n",
       "      <th>year</th>\n",
       "      <th>region</th>\n",
       "      <th></th>\n",
       "      <th></th>\n",
       "    </tr>\n",
       "  </thead>\n",
       "  <tbody>\n",
       "    <tr>\n",
       "      <td>2017</td>\n",
       "      <td>Makkah</td>\n",
       "      <td>145541</td>\n",
       "      <td>35422.153846</td>\n",
       "    </tr>\n",
       "    <tr>\n",
       "      <td rowspan=\"3\" valign=\"top\">2016</td>\n",
       "      <td>Riyadh</td>\n",
       "      <td>141736</td>\n",
       "      <td>41029.230769</td>\n",
       "    </tr>\n",
       "    <tr>\n",
       "      <td>Makkah</td>\n",
       "      <td>134838</td>\n",
       "      <td>41029.230769</td>\n",
       "    </tr>\n",
       "    <tr>\n",
       "      <td>Eastern Region</td>\n",
       "      <td>101619</td>\n",
       "      <td>41029.230769</td>\n",
       "    </tr>\n",
       "    <tr>\n",
       "      <td rowspan=\"2\" valign=\"top\">2017</td>\n",
       "      <td>Riyadh</td>\n",
       "      <td>99925</td>\n",
       "      <td>35422.153846</td>\n",
       "    </tr>\n",
       "    <tr>\n",
       "      <td>Eastern Region</td>\n",
       "      <td>81433</td>\n",
       "      <td>35422.153846</td>\n",
       "    </tr>\n",
       "  </tbody>\n",
       "</table>\n",
       "</div>"
      ],
      "text/plain": [
       "                     no_of_accidents  mean_accidents\n",
       "year region                                         \n",
       "2017 Makkah                   145541    35422.153846\n",
       "2016 Riyadh                   141736    41029.230769\n",
       "     Makkah                   134838    41029.230769\n",
       "     Eastern Region           101619    41029.230769\n",
       "2017 Riyadh                    99925    35422.153846\n",
       "     Eastern Region            81433    35422.153846"
      ]
     },
     "execution_count": 48,
     "metadata": {},
     "output_type": "execute_result"
    }
   ],
   "source": [
    "mm = df_inmerge.groupby(['year'])\n",
    "df_inmerge['mean_accidents'] = mm['no_of_accidents'].transform(np.mean)\n",
    "regions = df_inmerge[(df_inmerge['no_of_accidents'] > df_inmerge['mean_accidents'])]\n",
    "gg = regions.groupby(['year', 'region'])[['no_of_accidents','mean_accidents']].max()\n",
    "gg.sort_values('no_of_accidents', ascending=False).head(10)"
   ]
  },
  {
   "cell_type": "code",
   "execution_count": 49,
   "metadata": {},
   "outputs": [],
   "source": [
    "df_inmerge.drop(columns='mean_accidents', inplace=True)"
   ]
  },
  {
   "cell_type": "code",
   "execution_count": 50,
   "metadata": {},
   "outputs": [
    {
     "data": {
      "text/html": [
       "<div>\n",
       "<style scoped>\n",
       "    .dataframe tbody tr th:only-of-type {\n",
       "        vertical-align: middle;\n",
       "    }\n",
       "\n",
       "    .dataframe tbody tr th {\n",
       "        vertical-align: top;\n",
       "    }\n",
       "\n",
       "    .dataframe thead th {\n",
       "        text-align: right;\n",
       "    }\n",
       "</style>\n",
       "<table border=\"1\" class=\"dataframe\">\n",
       "  <thead>\n",
       "    <tr style=\"text-align: right;\">\n",
       "      <th></th>\n",
       "      <th></th>\n",
       "      <th>driving_licenses</th>\n",
       "      <th>no_of_accidents</th>\n",
       "      <th>no_of_deads</th>\n",
       "      <th>no_of_injured</th>\n",
       "    </tr>\n",
       "    <tr>\n",
       "      <th>region</th>\n",
       "      <th>year</th>\n",
       "      <th></th>\n",
       "      <th></th>\n",
       "      <th></th>\n",
       "      <th></th>\n",
       "    </tr>\n",
       "  </thead>\n",
       "  <tbody>\n",
       "    <tr>\n",
       "      <td rowspan=\"2\" valign=\"top\">Al-Baha</td>\n",
       "      <td>2016</td>\n",
       "      <td>4614</td>\n",
       "      <td>3618</td>\n",
       "      <td>185</td>\n",
       "      <td>1227</td>\n",
       "    </tr>\n",
       "    <tr>\n",
       "      <td>2017</td>\n",
       "      <td>4131</td>\n",
       "      <td>1414</td>\n",
       "      <td>134</td>\n",
       "      <td>1007</td>\n",
       "    </tr>\n",
       "    <tr>\n",
       "      <td rowspan=\"2\" valign=\"top\">Al-Jouf</td>\n",
       "      <td>2016</td>\n",
       "      <td>9371</td>\n",
       "      <td>10212</td>\n",
       "      <td>245</td>\n",
       "      <td>920</td>\n",
       "    </tr>\n",
       "    <tr>\n",
       "      <td>2017</td>\n",
       "      <td>8091</td>\n",
       "      <td>10469</td>\n",
       "      <td>240</td>\n",
       "      <td>862</td>\n",
       "    </tr>\n",
       "    <tr>\n",
       "      <td rowspan=\"2\" valign=\"top\">Al-Qaseem</td>\n",
       "      <td>2016</td>\n",
       "      <td>9180</td>\n",
       "      <td>25664</td>\n",
       "      <td>397</td>\n",
       "      <td>1513</td>\n",
       "    </tr>\n",
       "    <tr>\n",
       "      <td>2017</td>\n",
       "      <td>6318</td>\n",
       "      <td>22405</td>\n",
       "      <td>319</td>\n",
       "      <td>1446</td>\n",
       "    </tr>\n",
       "    <tr>\n",
       "      <td rowspan=\"2\" valign=\"top\">Asir</td>\n",
       "      <td>2016</td>\n",
       "      <td>41367</td>\n",
       "      <td>32684</td>\n",
       "      <td>983</td>\n",
       "      <td>2541</td>\n",
       "    </tr>\n",
       "    <tr>\n",
       "      <td>2017</td>\n",
       "      <td>39133</td>\n",
       "      <td>25245</td>\n",
       "      <td>828</td>\n",
       "      <td>2368</td>\n",
       "    </tr>\n",
       "    <tr>\n",
       "      <td rowspan=\"2\" valign=\"top\">Eastern Region</td>\n",
       "      <td>2016</td>\n",
       "      <td>142307</td>\n",
       "      <td>101619</td>\n",
       "      <td>1113</td>\n",
       "      <td>4893</td>\n",
       "    </tr>\n",
       "    <tr>\n",
       "      <td>2017</td>\n",
       "      <td>126816</td>\n",
       "      <td>81433</td>\n",
       "      <td>963</td>\n",
       "      <td>4073</td>\n",
       "    </tr>\n",
       "    <tr>\n",
       "      <td rowspan=\"2\" valign=\"top\">Hail</td>\n",
       "      <td>2016</td>\n",
       "      <td>54507</td>\n",
       "      <td>10199</td>\n",
       "      <td>299</td>\n",
       "      <td>932</td>\n",
       "    </tr>\n",
       "    <tr>\n",
       "      <td>2017</td>\n",
       "      <td>22035</td>\n",
       "      <td>9379</td>\n",
       "      <td>265</td>\n",
       "      <td>773</td>\n",
       "    </tr>\n",
       "    <tr>\n",
       "      <td rowspan=\"2\" valign=\"top\">Jazan</td>\n",
       "      <td>2016</td>\n",
       "      <td>11504</td>\n",
       "      <td>25873</td>\n",
       "      <td>514</td>\n",
       "      <td>2259</td>\n",
       "    </tr>\n",
       "    <tr>\n",
       "      <td>2017</td>\n",
       "      <td>18345</td>\n",
       "      <td>22161</td>\n",
       "      <td>466</td>\n",
       "      <td>2207</td>\n",
       "    </tr>\n",
       "    <tr>\n",
       "      <td rowspan=\"2\" valign=\"top\">Madinah</td>\n",
       "      <td>2016</td>\n",
       "      <td>24540</td>\n",
       "      <td>14475</td>\n",
       "      <td>822</td>\n",
       "      <td>4184</td>\n",
       "    </tr>\n",
       "    <tr>\n",
       "      <td>2017</td>\n",
       "      <td>36165</td>\n",
       "      <td>16070</td>\n",
       "      <td>580</td>\n",
       "      <td>2917</td>\n",
       "    </tr>\n",
       "    <tr>\n",
       "      <td rowspan=\"2\" valign=\"top\">Makkah</td>\n",
       "      <td>2016</td>\n",
       "      <td>136055</td>\n",
       "      <td>134838</td>\n",
       "      <td>2243</td>\n",
       "      <td>12383</td>\n",
       "    </tr>\n",
       "    <tr>\n",
       "      <td>2017</td>\n",
       "      <td>142487</td>\n",
       "      <td>145541</td>\n",
       "      <td>1641</td>\n",
       "      <td>10623</td>\n",
       "    </tr>\n",
       "    <tr>\n",
       "      <td rowspan=\"2\" valign=\"top\">Najran</td>\n",
       "      <td>2016</td>\n",
       "      <td>2153</td>\n",
       "      <td>3235</td>\n",
       "      <td>173</td>\n",
       "      <td>706</td>\n",
       "    </tr>\n",
       "    <tr>\n",
       "      <td>2017</td>\n",
       "      <td>13825</td>\n",
       "      <td>3193</td>\n",
       "      <td>194</td>\n",
       "      <td>766</td>\n",
       "    </tr>\n",
       "    <tr>\n",
       "      <td rowspan=\"2\" valign=\"top\">Northern Boarder</td>\n",
       "      <td>2016</td>\n",
       "      <td>4958</td>\n",
       "      <td>13196</td>\n",
       "      <td>193</td>\n",
       "      <td>631</td>\n",
       "    </tr>\n",
       "    <tr>\n",
       "      <td>2017</td>\n",
       "      <td>5280</td>\n",
       "      <td>11540</td>\n",
       "      <td>112</td>\n",
       "      <td>374</td>\n",
       "    </tr>\n",
       "    <tr>\n",
       "      <td rowspan=\"2\" valign=\"top\">Riyadh</td>\n",
       "      <td>2016</td>\n",
       "      <td>242851</td>\n",
       "      <td>141736</td>\n",
       "      <td>1430</td>\n",
       "      <td>4207</td>\n",
       "    </tr>\n",
       "    <tr>\n",
       "      <td>2017</td>\n",
       "      <td>495307</td>\n",
       "      <td>99925</td>\n",
       "      <td>1399</td>\n",
       "      <td>4540</td>\n",
       "    </tr>\n",
       "    <tr>\n",
       "      <td rowspan=\"2\" valign=\"top\">Tabouk</td>\n",
       "      <td>2016</td>\n",
       "      <td>13610</td>\n",
       "      <td>16031</td>\n",
       "      <td>434</td>\n",
       "      <td>1724</td>\n",
       "    </tr>\n",
       "    <tr>\n",
       "      <td>2017</td>\n",
       "      <td>10232</td>\n",
       "      <td>11713</td>\n",
       "      <td>348</td>\n",
       "      <td>1243</td>\n",
       "    </tr>\n",
       "  </tbody>\n",
       "</table>\n",
       "</div>"
      ],
      "text/plain": [
       "                       driving_licenses  no_of_accidents  no_of_deads  \\\n",
       "region           year                                                   \n",
       "Al-Baha          2016              4614             3618          185   \n",
       "                 2017              4131             1414          134   \n",
       "Al-Jouf          2016              9371            10212          245   \n",
       "                 2017              8091            10469          240   \n",
       "Al-Qaseem        2016              9180            25664          397   \n",
       "                 2017              6318            22405          319   \n",
       "Asir             2016             41367            32684          983   \n",
       "                 2017             39133            25245          828   \n",
       "Eastern Region   2016            142307           101619         1113   \n",
       "                 2017            126816            81433          963   \n",
       "Hail             2016             54507            10199          299   \n",
       "                 2017             22035             9379          265   \n",
       "Jazan            2016             11504            25873          514   \n",
       "                 2017             18345            22161          466   \n",
       "Madinah          2016             24540            14475          822   \n",
       "                 2017             36165            16070          580   \n",
       "Makkah           2016            136055           134838         2243   \n",
       "                 2017            142487           145541         1641   \n",
       "Najran           2016              2153             3235          173   \n",
       "                 2017             13825             3193          194   \n",
       "Northern Boarder 2016              4958            13196          193   \n",
       "                 2017              5280            11540          112   \n",
       "Riyadh           2016            242851           141736         1430   \n",
       "                 2017            495307            99925         1399   \n",
       "Tabouk           2016             13610            16031          434   \n",
       "                 2017             10232            11713          348   \n",
       "\n",
       "                       no_of_injured  \n",
       "region           year                 \n",
       "Al-Baha          2016           1227  \n",
       "                 2017           1007  \n",
       "Al-Jouf          2016            920  \n",
       "                 2017            862  \n",
       "Al-Qaseem        2016           1513  \n",
       "                 2017           1446  \n",
       "Asir             2016           2541  \n",
       "                 2017           2368  \n",
       "Eastern Region   2016           4893  \n",
       "                 2017           4073  \n",
       "Hail             2016            932  \n",
       "                 2017            773  \n",
       "Jazan            2016           2259  \n",
       "                 2017           2207  \n",
       "Madinah          2016           4184  \n",
       "                 2017           2917  \n",
       "Makkah           2016          12383  \n",
       "                 2017          10623  \n",
       "Najran           2016            706  \n",
       "                 2017            766  \n",
       "Northern Boarder 2016            631  \n",
       "                 2017            374  \n",
       "Riyadh           2016           4207  \n",
       "                 2017           4540  \n",
       "Tabouk           2016           1724  \n",
       "                 2017           1243  "
      ]
     },
     "execution_count": 50,
     "metadata": {},
     "output_type": "execute_result"
    }
   ],
   "source": [
    "df_inmerge"
   ]
  },
  {
   "cell_type": "markdown",
   "metadata": {},
   "source": [
    "## Visualize the data\n"
   ]
  },
  {
   "cell_type": "code",
   "execution_count": 51,
   "metadata": {},
   "outputs": [],
   "source": [
    "df_inmerge.reset_index(inplace=True)"
   ]
  },
  {
   "cell_type": "code",
   "execution_count": 52,
   "metadata": {
    "scrolled": false
   },
   "outputs": [
    {
     "data": {
      "image/png": "[encoded data removed]",
      "text/plain": [
       "<Figure size 648x360 with 2 Axes>"
      ]
     },
     "metadata": {
      "image/png": {
       "height": 421,
       "width": 678
      },
      "needs_background": "light"
     },
     "output_type": "display_data"
    }
   ],
   "source": [
    "fig = plt.figure(figsize=(9,5))\n",
    "sns.heatmap(df_inmerge.corr(), annot=True, cmap='magma', vmin=-1 , vmax=1, linewidths=1)\n",
    "plt.savefig('corrolation of the dataframe', bbox_inches='tight', transparent=True, dpi='figure', quality=90)"
   ]
  },
  {
   "cell_type": "markdown",
   "metadata": {},
   "source": [
    "#### Plot and interpret histograms \n",
    "For each of the following:\n",
    "- Driving Licenses number\n",
    "- Traffic Accidents number\n",
    "\n",
    "Please plot two additional histograms that will help with your understanding of the data"
   ]
  },
  {
   "cell_type": "code",
   "execution_count": 53,
   "metadata": {},
   "outputs": [],
   "source": [
    "def subplot_histograms(dataframe, list_of_columns, list_of_titles, list_of_xlabels, list_of_ylabels):\n",
    "    nrows = int(np.ceil(len(list_of_columns)/2)) # Makes sure you have enough rows\n",
    "    fig, ax = plt.subplots(nrows=nrows, ncols=2, figsize=(17,15)) # You'll want to specify your figsize\n",
    "    ax = ax.ravel() # Ravel turns a matrix into a vector, which is easier to iterate\n",
    "    for i, column in enumerate(list_of_columns): # Gives us an index value to get into all our lists\n",
    "        ax[i].hist(dataframe[column]) # feel free to add more settings\n",
    "        ax[i].set_xlabel(list_of_xlabels[i])\n",
    "        ax[i].set_ylabel(list_of_ylabels[i])\n",
    "        ax[i].set_title(list_of_titles[i])\n",
    "        # Set titles, labels, etc here for each subplot"
   ]
  },
  {
   "cell_type": "code",
   "execution_count": 54,
   "metadata": {},
   "outputs": [
    {
     "data": {
      "image/png": "[encoded data removed]",
      "text/plain": [
       "<Figure size 1224x1080 with 4 Axes>"
      ]
     },
     "metadata": {
      "image/png": {
       "height": 894,
       "width": 1141
      },
      "needs_background": "light"
     },
     "output_type": "display_data"
    }
   ],
   "source": [
    "subplot_histograms(df_inmerge, ['driving_licenses', 'no_of_accidents', 'no_of_deads', 'no_of_injured'],\n",
    "                    ['licenses', 'accidents', 'dead', 'injured'],\n",
    "                    ['driving_licenses','accidents', 'dead', 'injured'],\n",
    "                    ['count','count', 'count', 'count'])"
   ]
  },
  {
   "cell_type": "markdown",
   "metadata": {},
   "source": [
    "#### Plot and interpret scatter plots\n",
    "\n",
    "For each of the following:\n",
    "- Driving Licenses vs. Traffic Accidents for 2017\n",
    "- Driving Licenses vs. Traffic Accidents for 2016\n",
    "- Driving Licenses for 2016 vs 2017\n",
    "- Traffic Accidents for 2016 vs 2017\n",
    "\n",
    "Plot the two variables against each other\n"
   ]
  },
  {
   "cell_type": "code",
   "execution_count": 55,
   "metadata": {},
   "outputs": [
    {
     "data": {
      "image/png": "[encoded data removed]",
      "text/plain": [
       "<Figure size 1224x1080 with 4 Axes>"
      ]
     },
     "metadata": {
      "image/png": {
       "height": 871,
       "width": 1183
      },
      "needs_background": "light"
     },
     "output_type": "display_data"
    }
   ],
   "source": [
    "fig, ax = plt.subplots(ncols=2, nrows=2, figsize=(17, 15))\n",
    "sns.scatterplot(df_inmerge.loc[df_inmerge['year'] == 2017,\"driving_licenses\"], df_inmerge.loc[df_inmerge['year'] == 2017, \"no_of_accidents\"], s=200 , ax=ax[0,0])\n",
    "ax[0,0].set_title('driving licenses vs number of accidents in 2017', fontsize=15)\n",
    "sns.scatterplot(df_inmerge.loc[df_inmerge['year'] == 2016,\"driving_licenses\"], df_inmerge.loc[df_inmerge['year'] == 2016, \"no_of_accidents\"], s=200, ax=ax[0,1])\n",
    "ax[0,1].set_title('driving licenses vs number of accidents in 2016', fontsize=15)\n",
    "sns.scatterplot(df_inmerge.loc[df_inmerge['year'] == 2016,\"driving_licenses\"].values, df_inmerge.loc[df_inmerge['year'] == 2017, \"driving_licenses\"].values,s=200 , color = \"r\", ax=ax[1,0])\n",
    "ax[1,0].set_title('driving licenses 2016 vs 2017', fontsize=15)\n",
    "sns.scatterplot(df_inmerge.loc[df_inmerge['year'] == 2016,\"no_of_accidents\"].values, df_inmerge.loc[df_inmerge['year'] == 2017, \"no_of_accidents\"].values,s=200 , color = \"r\", ax=ax[1,1])\n",
    "ax[1,1].set_title('number of accidents 2016 vs 2017', fontsize=15)\n",
    "plt.show()"
   ]
  },
  {
   "cell_type": "markdown",
   "metadata": {},
   "source": [
    "#### Plot and interpret boxplots\n",
    "\n",
    "For each numeric variable in the dataframe create a boxplot using Seaborn. Boxplots demonstrate central tendency and spread in variables. In a certain sense, these are somewhat redundant with histograms, but you may be better able to identify clear outliers or differences in IQR, etc.\n",
    "\n",
    "Multiple values can be plotted to a single boxplot as long as they are of the same relative scale (meaning they have similar min/max values).\n",
    "\n"
   ]
  },
  {
   "cell_type": "code",
   "execution_count": 56,
   "metadata": {},
   "outputs": [],
   "source": [
    "# Standardized dataframe to get more understandable plots\n",
    "from sklearn.preprocessing import StandardScaler\n",
    "inmerge = df_inmerge.copy()\n",
    "inmerge[['driving_licenses', 'no_of_accidents', 'no_of_deads', 'no_of_injured']] = StandardScaler().fit_transform(inmerge[['driving_licenses', 'no_of_accidents', 'no_of_deads', 'no_of_injured']])"
   ]
  },
  {
   "cell_type": "code",
   "execution_count": 57,
   "metadata": {},
   "outputs": [
    {
     "data": {
      "text/plain": [
       "Text(0.5, 1.0, 'Casualties')"
      ]
     },
     "execution_count": 57,
     "metadata": {},
     "output_type": "execute_result"
    },
    {
     "data": {
      "image/png": "[encoded data removed]",
      "text/plain": [
       "<Figure size 576x360 with 1 Axes>"
      ]
     },
     "metadata": {
      "image/png": {
       "height": 330,
       "width": 543
      },
      "needs_background": "light"
     },
     "output_type": "display_data"
    }
   ],
   "source": [
    "fig = plt.figure(figsize=(8,5))\n",
    "ax = fig.gca()\n",
    "\n",
    "b = inmerge[['no_of_deads', 'no_of_injured']]\n",
    "sns.boxplot(palette=['g'], data=b, fliersize=15)\n",
    "\n",
    "ax.set_title(\"Casualties\")"
   ]
  },
  {
   "cell_type": "code",
   "execution_count": 58,
   "metadata": {},
   "outputs": [
    {
     "data": {
      "text/plain": [
       "Text(0.5, 1.0, 'Number of Accidents vs Licenses')"
      ]
     },
     "execution_count": 58,
     "metadata": {},
     "output_type": "execute_result"
    },
    {
     "data": {
      "image/png": "[encoded data removed]",
      "text/plain": [
       "<Figure size 576x360 with 1 Axes>"
      ]
     },
     "metadata": {
      "image/png": {
       "height": 330,
       "width": 543
      },
      "needs_background": "light"
     },
     "output_type": "display_data"
    }
   ],
   "source": [
    "fig = plt.figure(figsize=(8,5))\n",
    "ax = fig.gca()\n",
    "\n",
    "c = inmerge[['no_of_accidents', 'driving_licenses']]\n",
    "sns.boxplot(palette=['b'], data=c, fliersize=10)\n",
    "\n",
    "ax.set_title(\"Number of Accidents vs Licenses\")"
   ]
  },
  {
   "cell_type": "code",
   "execution_count": 59,
   "metadata": {},
   "outputs": [
    {
     "data": {
      "text/plain": [
       "<matplotlib.legend.Legend at 0x194c2b1a7c8>"
      ]
     },
     "execution_count": 59,
     "metadata": {},
     "output_type": "execute_result"
    },
    {
     "data": {
      "image/png": "[encoded data removed]",
      "text/plain": [
       "<Figure size 720x360 with 1 Axes>"
      ]
     },
     "metadata": {
      "image/png": {
       "height": 443,
       "width": 705
      },
      "needs_background": "light"
     },
     "output_type": "display_data"
    }
   ],
   "source": [
    "accidents_wide.groupby('region').mean().sort_values('no_of_accidents').plot(kind='bar', figsize=(10,5)).legend(loc=2)"
   ]
  },
  {
   "cell_type": "markdown",
   "metadata": {},
   "source": [
    "#### Feel free to do additional plots below\n",
    "*(do research and choose your own chart types & variables)*\n"
   ]
  },
  {
   "cell_type": "code",
   "execution_count": 60,
   "metadata": {
    "scrolled": false
   },
   "outputs": [
    {
     "data": {
      "text/plain": [
       "Text(0.5, 1.0, 'Numbers of deads in each region')"
      ]
     },
     "execution_count": 60,
     "metadata": {},
     "output_type": "execute_result"
    },
    {
     "data": {
      "image/png": "[encoded data removed]",
      "text/plain": [
       "<Figure size 1656x720 with 1 Axes>"
      ]
     },
     "metadata": {
      "image/png": {
       "height": 622,
       "width": 1517
      },
      "needs_background": "light"
     },
     "output_type": "display_data"
    }
   ],
   "source": [
    "fig = plt.figure(figsize=(23,10))\n",
    "ax = sns.boxplot( data=inmerge, x='region', y='no_of_deads' , fliersize=10)\n",
    "\n",
    "ax.set_title(\"Numbers of deads in each region\")"
   ]
  },
  {
   "cell_type": "markdown",
   "metadata": {},
   "source": [
    "## Descriptive and Inferential Statistics"
   ]
  },
  {
   "cell_type": "markdown",
   "metadata": {},
   "source": [
    "#### Summarizing Distributions\n",
    "\n",
    "\n",
    "\n",
    "For each variable in your data, summarize the underlying distributions (in words & statistics)\n",
    " - Be thorough in your verbal description of these distributions.\n",
    " - Be sure to back up these summaries with statistics."
   ]
  },
  {
   "cell_type": "code",
   "execution_count": 61,
   "metadata": {},
   "outputs": [
    {
     "data": {
      "text/html": [
       "<div>\n",
       "<style scoped>\n",
       "    .dataframe tbody tr th:only-of-type {\n",
       "        vertical-align: middle;\n",
       "    }\n",
       "\n",
       "    .dataframe tbody tr th {\n",
       "        vertical-align: top;\n",
       "    }\n",
       "\n",
       "    .dataframe thead th {\n",
       "        text-align: right;\n",
       "    }\n",
       "</style>\n",
       "<table border=\"1\" class=\"dataframe\">\n",
       "  <thead>\n",
       "    <tr style=\"text-align: right;\">\n",
       "      <th></th>\n",
       "      <th>year</th>\n",
       "      <th>driving_licenses</th>\n",
       "      <th>no_of_accidents</th>\n",
       "      <th>no_of_deads</th>\n",
       "      <th>no_of_injured</th>\n",
       "    </tr>\n",
       "  </thead>\n",
       "  <tbody>\n",
       "    <tr>\n",
       "      <td>count</td>\n",
       "      <td>26.000000</td>\n",
       "      <td>26.000000</td>\n",
       "      <td>26.000000</td>\n",
       "      <td>26.000000</td>\n",
       "      <td>26.000000</td>\n",
       "    </tr>\n",
       "    <tr>\n",
       "      <td>mean</td>\n",
       "      <td>2016.500000</td>\n",
       "      <td>62507.000000</td>\n",
       "      <td>38225.692308</td>\n",
       "      <td>635.384615</td>\n",
       "      <td>2743.038462</td>\n",
       "    </tr>\n",
       "    <tr>\n",
       "      <td>std</td>\n",
       "      <td>0.509902</td>\n",
       "      <td>107293.917762</td>\n",
       "      <td>46493.705035</td>\n",
       "      <td>549.783381</td>\n",
       "      <td>2922.641127</td>\n",
       "    </tr>\n",
       "    <tr>\n",
       "      <td>min</td>\n",
       "      <td>2016.000000</td>\n",
       "      <td>2153.000000</td>\n",
       "      <td>1414.000000</td>\n",
       "      <td>112.000000</td>\n",
       "      <td>374.000000</td>\n",
       "    </tr>\n",
       "    <tr>\n",
       "      <td>25%</td>\n",
       "      <td>2016.000000</td>\n",
       "      <td>8363.250000</td>\n",
       "      <td>10276.250000</td>\n",
       "      <td>241.250000</td>\n",
       "      <td>923.000000</td>\n",
       "    </tr>\n",
       "    <tr>\n",
       "      <td>50%</td>\n",
       "      <td>2016.500000</td>\n",
       "      <td>16085.000000</td>\n",
       "      <td>16050.500000</td>\n",
       "      <td>415.500000</td>\n",
       "      <td>1618.500000</td>\n",
       "    </tr>\n",
       "    <tr>\n",
       "      <td>75%</td>\n",
       "      <td>2017.000000</td>\n",
       "      <td>51222.000000</td>\n",
       "      <td>30981.250000</td>\n",
       "      <td>929.250000</td>\n",
       "      <td>3784.000000</td>\n",
       "    </tr>\n",
       "    <tr>\n",
       "      <td>max</td>\n",
       "      <td>2017.000000</td>\n",
       "      <td>495307.000000</td>\n",
       "      <td>145541.000000</td>\n",
       "      <td>2243.000000</td>\n",
       "      <td>12383.000000</td>\n",
       "    </tr>\n",
       "  </tbody>\n",
       "</table>\n",
       "</div>"
      ],
      "text/plain": [
       "              year  driving_licenses  no_of_accidents  no_of_deads  \\\n",
       "count    26.000000         26.000000        26.000000    26.000000   \n",
       "mean   2016.500000      62507.000000     38225.692308   635.384615   \n",
       "std       0.509902     107293.917762     46493.705035   549.783381   \n",
       "min    2016.000000       2153.000000      1414.000000   112.000000   \n",
       "25%    2016.000000       8363.250000     10276.250000   241.250000   \n",
       "50%    2016.500000      16085.000000     16050.500000   415.500000   \n",
       "75%    2017.000000      51222.000000     30981.250000   929.250000   \n",
       "max    2017.000000     495307.000000    145541.000000  2243.000000   \n",
       "\n",
       "       no_of_injured  \n",
       "count      26.000000  \n",
       "mean     2743.038462  \n",
       "std      2922.641127  \n",
       "min       374.000000  \n",
       "25%       923.000000  \n",
       "50%      1618.500000  \n",
       "75%      3784.000000  \n",
       "max     12383.000000  "
      ]
     },
     "execution_count": 61,
     "metadata": {},
     "output_type": "execute_result"
    }
   ],
   "source": [
    "df_inmerge.describe()"
   ]
  },
  {
   "cell_type": "markdown",
   "metadata": {},
   "source": [
    "Answers: based on the above resultes:\n",
    "  - **driving licenses** issued in Riyadh, Makkah and Eastern region have a higher number of issued than other regions. It could be the population density in those regions. So, we need population data to be sure.\n",
    "  - For the rest of features ( **no_of_accidents**, **no_of_deads**, **no_of_injured** ), they have the same observation from **driving licenses** feature. "
   ]
  },
  {
   "cell_type": "markdown",
   "metadata": {},
   "source": [
    "#### We generally assuming that data we sample from a population will be normally distributed. Do we observe this trend?"
   ]
  },
  {
   "cell_type": "markdown",
   "metadata": {},
   "source": [
    "Answer: No."
   ]
  },
  {
   "cell_type": "markdown",
   "metadata": {},
   "source": [
    "Does This Assumption Hold for:\n",
    "    - Driving Licenses\n",
    "    - Traffic Accidents\n",
    "Explain your answers for each distribution and how you think this will affect estimates made from these data."
   ]
  },
  {
   "cell_type": "markdown",
   "metadata": {},
   "source": [
    "Answer: As we see in the histogram of driving licenses and traffic accidents below, they are not normally distributed. They are postively skewed which means the mean of both datasets is higher than the median."
   ]
  },
  {
   "cell_type": "code",
   "execution_count": 62,
   "metadata": {
    "scrolled": false
   },
   "outputs": [
    {
     "data": {
      "image/png": "[encoded data removed]",
      "text/plain": [
       "<Figure size 504x504 with 1 Axes>"
      ]
     },
     "metadata": {
      "image/png": {
       "height": 490,
       "width": 485
      },
      "needs_background": "light"
     },
     "output_type": "display_data"
    },
    {
     "data": {
      "text/plain": [
       "<Figure size 432x288 with 0 Axes>"
      ]
     },
     "metadata": {},
     "output_type": "display_data"
    }
   ],
   "source": [
    "fig = plt.figure( figsize=(7,7))\n",
    "sns.distplot(inmerge['driving_licenses'], bins=10, kde=True)\n",
    "fig.suptitle('Histograms of driving licenses issued', fontsize=20)\n",
    "plt.show()\n",
    "plt.savefig('Histograms of driving licenses', bbox_inches='tight', transparent=True, dpi='figure', quality=90)"
   ]
  },
  {
   "cell_type": "code",
   "execution_count": 63,
   "metadata": {
    "scrolled": false
   },
   "outputs": [
    {
     "data": {
      "image/png": "[encoded data removed]",
      "text/plain": [
       "<Figure size 504x504 with 1 Axes>"
      ]
     },
     "metadata": {
      "image/png": {
       "height": 490,
       "width": 485
      },
      "needs_background": "light"
     },
     "output_type": "display_data"
    },
    {
     "data": {
      "text/plain": [
       "<Figure size 432x288 with 0 Axes>"
      ]
     },
     "metadata": {},
     "output_type": "display_data"
    }
   ],
   "source": [
    "fig = plt.figure( figsize=(7,7))\n",
    "sns.distplot(inmerge['no_of_accidents'], bins=10, kde=True)\n",
    "fig.suptitle('Histograms for number of accidents ', fontsize=20)\n",
    "plt.show()\n",
    "plt.savefig('Histograms for number of accidents', bbox_inches='tight', transparent=True, dpi='figure', quality=90)"
   ]
  },
  {
   "cell_type": "markdown",
   "metadata": {},
   "source": [
    "## Conclusions and Recommendations"
   ]
  },
  {
   "cell_type": "markdown",
   "metadata": {},
   "source": [
    "- Based on your exploration of the data, what are you key takeaways and recommendations?\n",
    "- Are there additional data you desire that would better inform your investigations?"
   ]
  },
  {
   "cell_type": "markdown",
   "metadata": {},
   "source": [
    "Answer:"
   ]
  },
  {
   "cell_type": "markdown",
   "metadata": {},
   "source": [
    "#### Conclusions:\n",
    "   Makkah, Riyadh and Eastern region have the highest level of accidents. On the other hand, Al-Baha, Najran and Northern Boarder have the lowest mean of dead. Plus, we think that increasing population density in a specific region leads to increased accidents and injuries. So, the population data will be more helpful. "
   ]
  },
  {
   "cell_type": "markdown",
   "metadata": {},
   "source": [
    "#### Recommendations:\n",
    " - Aviod driving in Riyadh, Makkah and Eastern region or places with heavy traffic, especially in rush hours and seasons.\n",
    " - Driving in Al-Baha, Najran and Northern Boarder could be more safe.\n",
    " - Must doubling the penalties for violations that cause accidents.\n",
    " - Improve road infrastructure to avoid accidents."
   ]
  },
  {
   "cell_type": "markdown",
   "metadata": {},
   "source": [
    "#### Additional data:\n",
    "  - Population data is very important in our investigation to be sure about the ratio of accidents and injuerd.\n",
    "  - Accidents causes data will be useful to put new penalties on the main causes of accidents."
   ]
  }
 ],
 "metadata": {
  "anaconda-cloud": {},
  "kernelspec": {
   "display_name": "Python 3",
   "language": "python",
   "name": "python3"
  },
  "language_info": {
   "codemirror_mode": {
    "name": "ipython",
    "version": 3
   },
   "file_extension": ".py",
   "mimetype": "text/x-python",
   "name": "python",
   "nbconvert_exporter": "python",
   "pygments_lexer": "ipython3",
   "version": "3.7.4"
  }
 },
 "nbformat": 4,
 "nbformat_minor": 2
}
